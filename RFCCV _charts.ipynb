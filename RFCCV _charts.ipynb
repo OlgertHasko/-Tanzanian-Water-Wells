{
 "cells": [
  {
   "cell_type": "code",
   "execution_count": 45,
   "metadata": {},
   "outputs": [],
   "source": [
    "import pandas as pd\n",
    "import seaborn as sns\n",
    "import matplotlib.pyplot as plt\n",
    "from sklearn.preprocessing import StandardScaler\n",
    "from sklearn.linear_model import LogisticRegression\n",
    "from sklearn.neighbors import KNeighborsClassifier\n",
    "from sklearn.tree import DecisionTreeClassifier\n",
    "from sklearn.impute import SimpleImputer\n",
    "from sklearn.pipeline import Pipeline\n",
    "from sklearn.compose import ColumnTransformer\n",
    "from sklearn.preprocessing import OneHotEncoder , FunctionTransformer\n",
    "from sklearn.dummy import DummyRegressor\n",
    "from sklearn.ensemble import RandomForestClassifier, GradientBoostingClassifier\n",
    "from sklearn.compose import ColumnTransformer\n",
    "from sklearn.model_selection import train_test_split\n",
    "from sklearn.metrics import plot_confusion_matrix, recall_score,\\\n",
    "    accuracy_score, precision_score, f1_score\n",
    "import numpy as np\n",
    "from sklearn import metrics\n",
    "from sklearn.model_selection import GridSearchCV\n"
   ]
  },
  {
   "cell_type": "code",
   "execution_count": 33,
   "metadata": {},
   "outputs": [],
   "source": [
    "#df_desc = pd.read_csv(\"data/key.csv\", index_col = 0)\n",
    "df = pd.read_csv(\"data/data_clean.csv\")\n",
    "df = df.drop(\"Unnamed: 0\",axis=1)"
   ]
  },
  {
   "cell_type": "code",
   "execution_count": 34,
   "metadata": {},
   "outputs": [
    {
     "data": {
      "text/plain": [
       "funder                   object\n",
       "gps_height                int64\n",
       "installer                object\n",
       "wpt_name                 object\n",
       "basin                    object\n",
       "region_code               int64\n",
       "district_code             int64\n",
       "population                int64\n",
       "public_meeting           object\n",
       "permit                   object\n",
       "construction_year         int64\n",
       "extraction_type_class    object\n",
       "management               object\n",
       "payment_type             object\n",
       "quality_group            object\n",
       "quantity                 object\n",
       "source                   object\n",
       "source_class             object\n",
       "waterpoint_type          object\n",
       "status_group             object\n",
       "dtype: object"
      ]
     },
     "execution_count": 34,
     "metadata": {},
     "output_type": "execute_result"
    }
   ],
   "source": [
    "df.dtypes"
   ]
  },
  {
   "cell_type": "code",
   "execution_count": 35,
   "metadata": {},
   "outputs": [
    {
     "data": {
      "text/html": [
       "<div>\n",
       "<style scoped>\n",
       "    .dataframe tbody tr th:only-of-type {\n",
       "        vertical-align: middle;\n",
       "    }\n",
       "\n",
       "    .dataframe tbody tr th {\n",
       "        vertical-align: top;\n",
       "    }\n",
       "\n",
       "    .dataframe thead th {\n",
       "        text-align: right;\n",
       "    }\n",
       "</style>\n",
       "<table border=\"1\" class=\"dataframe\">\n",
       "  <thead>\n",
       "    <tr style=\"text-align: right;\">\n",
       "      <th></th>\n",
       "      <th>gps_height</th>\n",
       "      <th>region_code</th>\n",
       "      <th>district_code</th>\n",
       "      <th>population</th>\n",
       "      <th>construction_year</th>\n",
       "    </tr>\n",
       "  </thead>\n",
       "  <tbody>\n",
       "    <tr>\n",
       "      <th>count</th>\n",
       "      <td>59400.000000</td>\n",
       "      <td>59400.000000</td>\n",
       "      <td>59400.000000</td>\n",
       "      <td>59400.000000</td>\n",
       "      <td>59400.000000</td>\n",
       "    </tr>\n",
       "    <tr>\n",
       "      <th>mean</th>\n",
       "      <td>668.297239</td>\n",
       "      <td>15.297003</td>\n",
       "      <td>5.629747</td>\n",
       "      <td>179.909983</td>\n",
       "      <td>1300.652475</td>\n",
       "    </tr>\n",
       "    <tr>\n",
       "      <th>std</th>\n",
       "      <td>693.116350</td>\n",
       "      <td>17.587406</td>\n",
       "      <td>9.633649</td>\n",
       "      <td>471.482176</td>\n",
       "      <td>951.620547</td>\n",
       "    </tr>\n",
       "    <tr>\n",
       "      <th>min</th>\n",
       "      <td>-90.000000</td>\n",
       "      <td>1.000000</td>\n",
       "      <td>0.000000</td>\n",
       "      <td>0.000000</td>\n",
       "      <td>0.000000</td>\n",
       "    </tr>\n",
       "    <tr>\n",
       "      <th>25%</th>\n",
       "      <td>0.000000</td>\n",
       "      <td>5.000000</td>\n",
       "      <td>2.000000</td>\n",
       "      <td>0.000000</td>\n",
       "      <td>0.000000</td>\n",
       "    </tr>\n",
       "    <tr>\n",
       "      <th>50%</th>\n",
       "      <td>369.000000</td>\n",
       "      <td>12.000000</td>\n",
       "      <td>3.000000</td>\n",
       "      <td>25.000000</td>\n",
       "      <td>1986.000000</td>\n",
       "    </tr>\n",
       "    <tr>\n",
       "      <th>75%</th>\n",
       "      <td>1319.250000</td>\n",
       "      <td>17.000000</td>\n",
       "      <td>5.000000</td>\n",
       "      <td>215.000000</td>\n",
       "      <td>2004.000000</td>\n",
       "    </tr>\n",
       "    <tr>\n",
       "      <th>max</th>\n",
       "      <td>2770.000000</td>\n",
       "      <td>99.000000</td>\n",
       "      <td>80.000000</td>\n",
       "      <td>30500.000000</td>\n",
       "      <td>2013.000000</td>\n",
       "    </tr>\n",
       "  </tbody>\n",
       "</table>\n",
       "</div>"
      ],
      "text/plain": [
       "         gps_height   region_code  district_code    population  \\\n",
       "count  59400.000000  59400.000000   59400.000000  59400.000000   \n",
       "mean     668.297239     15.297003       5.629747    179.909983   \n",
       "std      693.116350     17.587406       9.633649    471.482176   \n",
       "min      -90.000000      1.000000       0.000000      0.000000   \n",
       "25%        0.000000      5.000000       2.000000      0.000000   \n",
       "50%      369.000000     12.000000       3.000000     25.000000   \n",
       "75%     1319.250000     17.000000       5.000000    215.000000   \n",
       "max     2770.000000     99.000000      80.000000  30500.000000   \n",
       "\n",
       "       construction_year  \n",
       "count       59400.000000  \n",
       "mean         1300.652475  \n",
       "std           951.620547  \n",
       "min             0.000000  \n",
       "25%             0.000000  \n",
       "50%          1986.000000  \n",
       "75%          2004.000000  \n",
       "max          2013.000000  "
      ]
     },
     "execution_count": 35,
     "metadata": {},
     "output_type": "execute_result"
    }
   ],
   "source": [
    "df.describe()"
   ]
  },
  {
   "cell_type": "code",
   "execution_count": 8,
   "metadata": {},
   "outputs": [],
   "source": [
    "def int_to_object(df):\n",
    "    df[\"region_code\"] = df[\"region_code\"].astype(object)\n",
    "    df[\"district_code\"] = df[\"district_code\"].astype(object)\n",
    "    df[\"public_meeting\"] = df[\"public_meeting\"].astype(str)\n",
    "    df[\"permit\"] = df[\"permit\"].astype(str)\n",
    "    df[\"construction_year_bins\"] = df[\"construction_year_bins\"].astype(str)\n",
    "    return df.dtypes"
   ]
  },
  {
   "cell_type": "code",
   "execution_count": 29,
   "metadata": {},
   "outputs": [
    {
     "data": {
      "text/html": [
       "<div>\n",
       "<style scoped>\n",
       "    .dataframe tbody tr th:only-of-type {\n",
       "        vertical-align: middle;\n",
       "    }\n",
       "\n",
       "    .dataframe tbody tr th {\n",
       "        vertical-align: top;\n",
       "    }\n",
       "\n",
       "    .dataframe thead th {\n",
       "        text-align: right;\n",
       "    }\n",
       "</style>\n",
       "<table border=\"1\" class=\"dataframe\">\n",
       "  <thead>\n",
       "    <tr style=\"text-align: right;\">\n",
       "      <th></th>\n",
       "      <th>gps_height</th>\n",
       "      <th>population</th>\n",
       "      <th>construction_year</th>\n",
       "    </tr>\n",
       "  </thead>\n",
       "  <tbody>\n",
       "    <tr>\n",
       "      <th>count</th>\n",
       "      <td>59400.000000</td>\n",
       "      <td>59400.000000</td>\n",
       "      <td>59400.000000</td>\n",
       "    </tr>\n",
       "    <tr>\n",
       "      <th>mean</th>\n",
       "      <td>668.297239</td>\n",
       "      <td>179.909983</td>\n",
       "      <td>1300.652475</td>\n",
       "    </tr>\n",
       "    <tr>\n",
       "      <th>std</th>\n",
       "      <td>693.116350</td>\n",
       "      <td>471.482176</td>\n",
       "      <td>951.620547</td>\n",
       "    </tr>\n",
       "    <tr>\n",
       "      <th>min</th>\n",
       "      <td>-90.000000</td>\n",
       "      <td>0.000000</td>\n",
       "      <td>0.000000</td>\n",
       "    </tr>\n",
       "    <tr>\n",
       "      <th>25%</th>\n",
       "      <td>0.000000</td>\n",
       "      <td>0.000000</td>\n",
       "      <td>0.000000</td>\n",
       "    </tr>\n",
       "    <tr>\n",
       "      <th>50%</th>\n",
       "      <td>369.000000</td>\n",
       "      <td>25.000000</td>\n",
       "      <td>1986.000000</td>\n",
       "    </tr>\n",
       "    <tr>\n",
       "      <th>75%</th>\n",
       "      <td>1319.250000</td>\n",
       "      <td>215.000000</td>\n",
       "      <td>2004.000000</td>\n",
       "    </tr>\n",
       "    <tr>\n",
       "      <th>max</th>\n",
       "      <td>2770.000000</td>\n",
       "      <td>30500.000000</td>\n",
       "      <td>2013.000000</td>\n",
       "    </tr>\n",
       "  </tbody>\n",
       "</table>\n",
       "</div>"
      ],
      "text/plain": [
       "         gps_height    population  construction_year\n",
       "count  59400.000000  59400.000000       59400.000000\n",
       "mean     668.297239    179.909983        1300.652475\n",
       "std      693.116350    471.482176         951.620547\n",
       "min      -90.000000      0.000000           0.000000\n",
       "25%        0.000000      0.000000           0.000000\n",
       "50%      369.000000     25.000000        1986.000000\n",
       "75%     1319.250000    215.000000        2004.000000\n",
       "max     2770.000000  30500.000000        2013.000000"
      ]
     },
     "execution_count": 29,
     "metadata": {},
     "output_type": "execute_result"
    }
   ],
   "source": [
    "df.describe()"
   ]
  },
  {
   "cell_type": "code",
   "execution_count": 12,
   "metadata": {},
   "outputs": [],
   "source": [
    "#int_to_object(df)"
   ]
  },
  {
   "cell_type": "code",
   "execution_count": 13,
   "metadata": {},
   "outputs": [],
   "source": [
    "X = df.drop([\"status_group\"], axis=1)\n",
    "y = df['status_group']"
   ]
  },
  {
   "cell_type": "code",
   "execution_count": 14,
   "metadata": {},
   "outputs": [],
   "source": [
    "X_train, X_test, y_train, y_test = train_test_split(X, y, random_state=465615615)"
   ]
  },
  {
   "cell_type": "code",
   "execution_count": 15,
   "metadata": {},
   "outputs": [
    {
     "data": {
      "text/plain": [
       "funder                   object\n",
       "gps_height                int64\n",
       "installer                object\n",
       "wpt_name                 object\n",
       "basin                    object\n",
       "region_code              object\n",
       "district_code            object\n",
       "population                int64\n",
       "public_meeting           object\n",
       "permit                   object\n",
       "construction_year         int64\n",
       "extraction_type_class    object\n",
       "management               object\n",
       "payment_type             object\n",
       "quality_group            object\n",
       "quantity                 object\n",
       "source                   object\n",
       "source_class             object\n",
       "waterpoint_type          object\n",
       "dtype: object"
      ]
     },
     "execution_count": 15,
     "metadata": {},
     "output_type": "execute_result"
    }
   ],
   "source": [
    "X_train.dtypes"
   ]
  },
  {
   "cell_type": "code",
   "execution_count": 16,
   "metadata": {},
   "outputs": [
    {
     "data": {
      "text/plain": [
       "communal standpipe             21389\n",
       "hand pump                      13085\n",
       "other                           4822\n",
       "communal standpipe multiple     4585\n",
       "improved spring                  575\n",
       "cattle trough                     90\n",
       "dam                                4\n",
       "Name: waterpoint_type, dtype: int64"
      ]
     },
     "execution_count": 16,
     "metadata": {},
     "output_type": "execute_result"
    }
   ],
   "source": [
    "X_train[\"waterpoint_type\"].value_counts()"
   ]
  },
  {
   "cell_type": "code",
   "execution_count": 17,
   "metadata": {},
   "outputs": [
    {
     "data": {
      "text/plain": [
       "none                         2675\n",
       "Shuleni                      1319\n",
       "Zahanati                      617\n",
       "Msikitini                     390\n",
       "Kanisani                      233\n",
       "                             ... \n",
       "Mihalle                         1\n",
       "Kwa Marko Mdenye                1\n",
       "Shule Ya Msingi_Makorongo       1\n",
       "Katoro Primary                  1\n",
       "Lukonja                         1\n",
       "Name: wpt_name, Length: 28978, dtype: int64"
      ]
     },
     "execution_count": 17,
     "metadata": {},
     "output_type": "execute_result"
    }
   ],
   "source": [
    "X_train[\"wpt_name\"].value_counts()"
   ]
  },
  {
   "cell_type": "code",
   "execution_count": 18,
   "metadata": {},
   "outputs": [],
   "source": [
    "def grab_numeric(df):\n",
    "    return df.select_dtypes(include=['int64'])"
   ]
  },
  {
   "cell_type": "code",
   "execution_count": 19,
   "metadata": {},
   "outputs": [],
   "source": [
    "GrabNumeric = FunctionTransformer(grab_numeric)"
   ]
  },
  {
   "cell_type": "code",
   "execution_count": 20,
   "metadata": {},
   "outputs": [
    {
     "data": {
      "text/plain": [
       "FunctionTransformer(func=<function grab_numeric at 0x0000015F5CA3B790>)"
      ]
     },
     "execution_count": 20,
     "metadata": {},
     "output_type": "execute_result"
    }
   ],
   "source": [
    "GrabNumeric"
   ]
  },
  {
   "cell_type": "code",
   "execution_count": 21,
   "metadata": {},
   "outputs": [],
   "source": [
    "pipe= Pipeline(steps=[(\"num\", GrabNumeric),\n",
    "                      ( \"ss\", StandardScaler())])"
   ]
  },
  {
   "cell_type": "code",
   "execution_count": 22,
   "metadata": {},
   "outputs": [
    {
     "data": {
      "text/plain": [
       "Pipeline(steps=[('num',\n",
       "                 FunctionTransformer(func=<function grab_numeric at 0x0000015F5CA3B790>)),\n",
       "                ('ss', StandardScaler())])"
      ]
     },
     "execution_count": 22,
     "metadata": {},
     "output_type": "execute_result"
    }
   ],
   "source": [
    "pipe.fit(X_train)\n"
   ]
  },
  {
   "cell_type": "code",
   "execution_count": 23,
   "metadata": {},
   "outputs": [
    {
     "data": {
      "text/plain": [
       "array([[-0.84040878,  0.25062257,  0.73816517],\n",
       "       [-0.96708423, -0.38007373, -1.36866403],\n",
       "       [ 0.55590018,  0.29266899,  0.72765205],\n",
       "       ...,\n",
       "       [-0.96708423, -0.38007373, -1.36866403],\n",
       "       [ 0.77614273, -0.37797141,  0.74657567],\n",
       "       [-0.96708423, -0.38007373, -1.36866403]])"
      ]
     },
     "execution_count": 23,
     "metadata": {},
     "output_type": "execute_result"
    }
   ],
   "source": [
    "pipe.transform(X_train)"
   ]
  },
  {
   "cell_type": "code",
   "execution_count": 24,
   "metadata": {},
   "outputs": [
    {
     "name": "stdout",
     "output_type": "stream",
     "text": [
      "Index Number 0 funder\n",
      "Index Number 1 gps_height\n",
      "Index Number 2 installer\n",
      "Index Number 3 wpt_name\n",
      "Index Number 4 basin\n",
      "Index Number 5 region_code\n",
      "Index Number 6 district_code\n",
      "Index Number 7 population\n",
      "Index Number 8 public_meeting\n",
      "Index Number 9 permit\n",
      "Index Number 10 construction_year\n",
      "Index Number 11 extraction_type_class\n",
      "Index Number 12 management\n",
      "Index Number 13 payment_type\n",
      "Index Number 14 quality_group\n",
      "Index Number 15 quantity\n",
      "Index Number 16 source\n",
      "Index Number 17 source_class\n",
      "Index Number 18 waterpoint_type\n"
     ]
    }
   ],
   "source": [
    "j = -1\n",
    "for i in X_train.columns:\n",
    "    j+=1\n",
    "    print(\"Index Number\", j,i)"
   ]
  },
  {
   "cell_type": "code",
   "execution_count": 25,
   "metadata": {},
   "outputs": [],
   "source": [
    "# We'll throw these mini-pipelines into our ColumnTransformer.\n",
    "\n",
    "subpipe_num = Pipeline(steps=[('num_impute', SimpleImputer(strategy=\"median\")),\n",
    "                           ('ss', StandardScaler())])\n",
    "subpipe_cat = Pipeline(steps=[('cat_impute', SimpleImputer(strategy='constant')),\n",
    "                             ('ohe', OneHotEncoder(sparse=False, handle_unknown='ignore'))])"
   ]
  },
  {
   "cell_type": "code",
   "execution_count": 26,
   "metadata": {},
   "outputs": [],
   "source": [
    "CT = ColumnTransformer(transformers=[('subpipe_num', subpipe_num, [1,7]),\n",
    "                                         ('subpipe_cat', subpipe_cat, [0,2,3,4,5,6,8,9,10,11,12,13,14,15,16,17,18])])"
   ]
  },
  {
   "cell_type": "code",
   "execution_count": 27,
   "metadata": {},
   "outputs": [],
   "source": [
    "logreg_model_pipe = Pipeline(steps=([(\"ct\", CT), \n",
    "                                    (\"logreg\", LogisticRegression(random_state=465654))]))"
   ]
  },
  {
   "cell_type": "code",
   "execution_count": 23,
   "metadata": {},
   "outputs": [
    {
     "name": "stderr",
     "output_type": "stream",
     "text": [
      "C:\\Users\\Dell\\anaconda3\\lib\\site-packages\\sklearn\\linear_model\\_logistic.py:814: ConvergenceWarning: lbfgs failed to converge (status=1):\n",
      "STOP: TOTAL NO. of ITERATIONS REACHED LIMIT.\n",
      "\n",
      "Increase the number of iterations (max_iter) or scale the data as shown in:\n",
      "    https://scikit-learn.org/stable/modules/preprocessing.html\n",
      "Please also refer to the documentation for alternative solver options:\n",
      "    https://scikit-learn.org/stable/modules/linear_model.html#logistic-regression\n",
      "  n_iter_i = _check_optimize_result(\n"
     ]
    },
    {
     "data": {
      "text/plain": [
       "Pipeline(steps=[('ct',\n",
       "                 ColumnTransformer(transformers=[('subpipe_num',\n",
       "                                                  Pipeline(steps=[('num_impute',\n",
       "                                                                   SimpleImputer(strategy='median')),\n",
       "                                                                  ('ss',\n",
       "                                                                   StandardScaler())]),\n",
       "                                                  [1, 7]),\n",
       "                                                 ('subpipe_cat',\n",
       "                                                  Pipeline(steps=[('cat_impute',\n",
       "                                                                   SimpleImputer(strategy='constant')),\n",
       "                                                                  ('ohe',\n",
       "                                                                   OneHotEncoder(handle_unknown='ignore',\n",
       "                                                                                 sparse=False))]),\n",
       "                                                  [0, 2, 3, 4, 5, 6, 8, 9, 11,\n",
       "                                                   12, 13, 14, 15, 16, 17,\n",
       "                                                   18])])),\n",
       "                ('logreg', LogisticRegression(random_state=465654))])"
      ]
     },
     "execution_count": 23,
     "metadata": {},
     "output_type": "execute_result"
    }
   ],
   "source": [
    "logreg_model_pipe.fit(X_train, y_train)"
   ]
  },
  {
   "cell_type": "code",
   "execution_count": 24,
   "metadata": {},
   "outputs": [
    {
     "data": {
      "text/plain": [
       "0.7410325476992143"
      ]
     },
     "execution_count": 24,
     "metadata": {},
     "output_type": "execute_result"
    }
   ],
   "source": [
    "logreg_model_pipe.score(X_train, y_train)"
   ]
  },
  {
   "cell_type": "code",
   "execution_count": null,
   "metadata": {},
   "outputs": [],
   "source": [
    "scorer = recall_score(average = 'weighted')"
   ]
  },
  {
   "cell_type": "code",
   "execution_count": 25,
   "metadata": {},
   "outputs": [],
   "source": [
    "rfc = RandomForestClassifier(random_state=165156156, n_jobs=-1)\n",
    "rfc_model_pipe = Pipeline([(\"ct\", CT), (\"rfc\", rfc)])"
   ]
  },
  {
   "cell_type": "code",
   "execution_count": 26,
   "metadata": {},
   "outputs": [
    {
     "data": {
      "text/plain": [
       "Pipeline(steps=[('ct',\n",
       "                 ColumnTransformer(transformers=[('subpipe_num',\n",
       "                                                  Pipeline(steps=[('num_impute',\n",
       "                                                                   SimpleImputer(strategy='median')),\n",
       "                                                                  ('ss',\n",
       "                                                                   StandardScaler())]),\n",
       "                                                  [1, 7]),\n",
       "                                                 ('subpipe_cat',\n",
       "                                                  Pipeline(steps=[('cat_impute',\n",
       "                                                                   SimpleImputer(strategy='constant')),\n",
       "                                                                  ('ohe',\n",
       "                                                                   OneHotEncoder(handle_unknown='ignore',\n",
       "                                                                                 sparse=False))]),\n",
       "                                                  [0, 2, 3, 4, 5, 6, 8, 9, 11,\n",
       "                                                   12, 13, 14, 15, 16, 17,\n",
       "                                                   18])])),\n",
       "                ('rfc',\n",
       "                 RandomForestClassifier(n_jobs=-1, random_state=165156156))])"
      ]
     },
     "execution_count": 26,
     "metadata": {},
     "output_type": "execute_result"
    }
   ],
   "source": [
    "rfc_model_pipe.fit(X_train, y_train)"
   ]
  },
  {
   "cell_type": "code",
   "execution_count": 27,
   "metadata": {},
   "outputs": [
    {
     "data": {
      "text/plain": [
       "0.9449382716049383"
      ]
     },
     "execution_count": 27,
     "metadata": {},
     "output_type": "execute_result"
    }
   ],
   "source": [
    "rfc_model_pipe.score(X_train, y_train)"
   ]
  },
  {
   "cell_type": "code",
   "execution_count": 37,
   "metadata": {},
   "outputs": [
    {
     "data": {
      "text/plain": [
       "0.7824242424242425"
      ]
     },
     "execution_count": 37,
     "metadata": {},
     "output_type": "execute_result"
    }
   ],
   "source": [
    "rfc_model_pipe.score(X_test, y_test)"
   ]
  },
  {
   "cell_type": "code",
   "execution_count": 28,
   "metadata": {},
   "outputs": [],
   "source": [
    "rfc_2 = RandomForestClassifier(random_state=42, max_depth=11, n_jobs=-1)\n",
    "rfc_2_pipe= Pipeline([(\"ct\", CT), ('rfc_2', rfc_2)])"
   ]
  },
  {
   "cell_type": "code",
   "execution_count": 29,
   "metadata": {},
   "outputs": [
    {
     "data": {
      "text/plain": [
       "Pipeline(steps=[('ct',\n",
       "                 ColumnTransformer(transformers=[('subpipe_num',\n",
       "                                                  Pipeline(steps=[('num_impute',\n",
       "                                                                   SimpleImputer(strategy='median')),\n",
       "                                                                  ('ss',\n",
       "                                                                   StandardScaler())]),\n",
       "                                                  [1, 7]),\n",
       "                                                 ('subpipe_cat',\n",
       "                                                  Pipeline(steps=[('cat_impute',\n",
       "                                                                   SimpleImputer(strategy='constant')),\n",
       "                                                                  ('ohe',\n",
       "                                                                   OneHotEncoder(handle_unknown='ignore',\n",
       "                                                                                 sparse=False))]),\n",
       "                                                  [0, 2, 3, 4, 5, 6, 8, 9, 11,\n",
       "                                                   12, 13, 14, 15, 16, 17,\n",
       "                                                   18])])),\n",
       "                ('rfc_2',\n",
       "                 RandomForestClassifier(max_depth=11, n_jobs=-1,\n",
       "                                        random_state=42))])"
      ]
     },
     "execution_count": 29,
     "metadata": {},
     "output_type": "execute_result"
    }
   ],
   "source": [
    "rfc_2_pipe.fit(X_train, y_train)"
   ]
  },
  {
   "cell_type": "code",
   "execution_count": 30,
   "metadata": {},
   "outputs": [
    {
     "data": {
      "text/plain": [
       "0.7611896745230079"
      ]
     },
     "execution_count": 30,
     "metadata": {},
     "output_type": "execute_result"
    }
   ],
   "source": [
    "rfc_2_pipe.score(X_train, y_train)"
   ]
  },
  {
   "cell_type": "code",
   "execution_count": 38,
   "metadata": {},
   "outputs": [
    {
     "data": {
      "text/plain": [
       "0.750976430976431"
      ]
     },
     "execution_count": 38,
     "metadata": {},
     "output_type": "execute_result"
    }
   ],
   "source": [
    "rfc_2_pipe.score(X_test, y_test)"
   ]
  },
  {
   "cell_type": "code",
   "execution_count": 31,
   "metadata": {},
   "outputs": [],
   "source": [
    "y_hat = rfc_2_pipe.predict(X_test)"
   ]
  },
  {
   "cell_type": "code",
   "execution_count": 32,
   "metadata": {},
   "outputs": [
    {
     "name": "stdout",
     "output_type": "stream",
     "text": [
      "\n",
      "Our final model's accuracy on the test set is 0.75. \n",
      "\n",
      "Our final model's recall on the test set is 0.53 \n",
      "\n",
      "Our final model's precision on the test set is 0.76 \n",
      "\n",
      "Our final model's f1-score on the test is 0.54.\n",
      "\n"
     ]
    }
   ],
   "source": [
    "print(f\"\"\"\n",
    "Our final model's accuracy on the test set is {round(accuracy_score(y_test, y_hat), 2)}. \\n\n",
    "Our final model's recall on the test set is {round(recall_score(y_test, y_hat,average= 'macro'), 2)} \\n\n",
    "Our final model's precision on the test set is {round(precision_score(y_test, y_hat,average= 'macro'), 2)} \\n\n",
    "Our final model's f1-score on the test is {round(f1_score(y_test, y_hat,average= 'macro'), 2)}.\n",
    "\"\"\")"
   ]
  },
  {
   "cell_type": "code",
   "execution_count": 33,
   "metadata": {},
   "outputs": [
    {
     "name": "stderr",
     "output_type": "stream",
     "text": [
      "C:\\Users\\Dell\\anaconda3\\lib\\site-packages\\sklearn\\utils\\deprecation.py:87: FutureWarning: Function plot_confusion_matrix is deprecated; Function `plot_confusion_matrix` is deprecated in 1.0 and will be removed in 1.2. Use one of the class methods: ConfusionMatrixDisplay.from_predictions or ConfusionMatrixDisplay.from_estimator.\n",
      "  warnings.warn(msg, category=FutureWarning)\n"
     ]
    },
    {
     "data": {
      "image/png": "[encoded data removed]",
      "text/plain": [
       "<Figure size 432x288 with 2 Axes>"
      ]
     },
     "metadata": {
      "needs_background": "light"
     },
     "output_type": "display_data"
    }
   ],
   "source": [
    "plot_confusion_matrix(rfc_2_pipe, X_test, y_test);"
   ]
  },
  {
   "cell_type": "code",
   "execution_count": 34,
   "metadata": {},
   "outputs": [],
   "source": [
    "#gbc_model_pipe = Pipeline([('ct', CT), ('gbc', GradientBoostingClassifier(random_state=42))])"
   ]
  },
  {
   "cell_type": "code",
   "execution_count": 41,
   "metadata": {},
   "outputs": [
    {
     "data": {
      "text/plain": [
       "Pipeline(steps=[('ct',\n",
       "                 ColumnTransformer(transformers=[('subpipe_num',\n",
       "                                                  Pipeline(steps=[('num_impute',\n",
       "                                                                   SimpleImputer(strategy='median')),\n",
       "                                                                  ('ss',\n",
       "                                                                   StandardScaler())]),\n",
       "                                                  [1, 7]),\n",
       "                                                 ('subpipe_cat',\n",
       "                                                  Pipeline(steps=[('cat_impute',\n",
       "                                                                   SimpleImputer(strategy='constant')),\n",
       "                                                                  ('ohe',\n",
       "                                                                   OneHotEncoder(handle_unknown='ignore',\n",
       "                                                                                 sparse=False))]),\n",
       "                                                  [0, 2, 3, 4, 5, 6, 8, 9, 11,\n",
       "                                                   12, 13, 14, 15, 16, 17,\n",
       "                                                   18])])),\n",
       "                ('rfc_3',\n",
       "                 RandomForestClassifier(max_depth=15, n_jobs=-1,\n",
       "                                        random_state=42))])"
      ]
     },
     "execution_count": 41,
     "metadata": {},
     "output_type": "execute_result"
    }
   ],
   "source": [
    "rfc_3 = RandomForestClassifier(random_state=42, max_depth=15, n_jobs=-1)\n",
    "rfc_3_pipe= Pipeline([(\"ct\", CT), ('rfc_3', rfc_3)])\n",
    "rfc_3_pipe.fit(X_train, y_train)"
   ]
  },
  {
   "cell_type": "code",
   "execution_count": 42,
   "metadata": {},
   "outputs": [
    {
     "data": {
      "text/plain": [
       "0.813939393939394"
      ]
     },
     "execution_count": 42,
     "metadata": {},
     "output_type": "execute_result"
    }
   ],
   "source": [
    "rfc_3_pipe.score(X_train, y_train)"
   ]
  },
  {
   "cell_type": "markdown",
   "metadata": {},
   "source": [
    "Trying a Random Forest Grid Search on just a few variables to make sure it works. I tried changing scoring to recall and the results were pretty similar. "
   ]
  },
  {
   "cell_type": "code",
   "execution_count": 59,
   "metadata": {},
   "outputs": [
    {
     "data": {
      "text/plain": [
       "Pipeline(steps=[('ct',\n",
       "                 ColumnTransformer(transformers=[('subpipe_num',\n",
       "                                                  Pipeline(steps=[('num_impute',\n",
       "                                                                   SimpleImputer(strategy='median')),\n",
       "                                                                  ('ss',\n",
       "                                                                   StandardScaler())]),\n",
       "                                                  [1, 7]),\n",
       "                                                 ('subpipe_cat',\n",
       "                                                  Pipeline(steps=[('cat_impute',\n",
       "                                                                   SimpleImputer(strategy='constant')),\n",
       "                                                                  ('ohe',\n",
       "                                                                   OneHotEncoder(handle_unknown='ignore',\n",
       "                                                                                 sparse=False))]),\n",
       "                                                  [0, 2, 3, 4, 5, 6, 8, 9, 11,\n",
       "                                                   12, 13, 14, 15, 16, 17,\n",
       "                                                   18])])),\n",
       "                ('rfc_3',\n",
       "                 RandomForestClassifier(max_depth=15, max_samples=0.5,\n",
       "                                        min_samples_leaf=5, n_estimators=250,\n",
       "                                        n_jobs=-1, random_state=42))])"
      ]
     },
     "execution_count": 59,
     "metadata": {},
     "output_type": "execute_result"
    }
   ],
   "source": [
    "\n",
    "# Grid of parameters to choose from\n",
    "parameters = {\"rfc_3__n_estimators\": [150, 250],\n",
    "    \"rfc_3__min_samples_leaf\": np.arange(5, 7),\n",
    "    \"rfc_3__max_samples\": np.arange(0.3, 0.7, 0.2),\n",
    "             }\n",
    "\n",
    "# Run the grid search\n",
    "grid_obj = GridSearchCV(rfc_3_pipe, parameters, scoring=\"accuracy\",cv=5)\n",
    "grid_obj = grid_obj.fit(X_train, y_train)\n",
    "\n",
    "# Set the clf to the best combination of parameters\n",
    "rfc_3_pipe = grid_obj.best_estimator_\n",
    "\n",
    "# Fit the best algorithm to the data.\n",
    "rfc_3_pipe.fit(X_train, y_train)"
   ]
  },
  {
   "cell_type": "code",
   "execution_count": 54,
   "metadata": {},
   "outputs": [
    {
     "data": {
      "text/plain": [
       "Pipeline(steps=[('ct',\n",
       "                 ColumnTransformer(transformers=[('subpipe_num',\n",
       "                                                  Pipeline(steps=[('num_impute',\n",
       "                                                                   SimpleImputer(strategy='median')),\n",
       "                                                                  ('ss',\n",
       "                                                                   StandardScaler())]),\n",
       "                                                  [1, 7]),\n",
       "                                                 ('subpipe_cat',\n",
       "                                                  Pipeline(steps=[('cat_impute',\n",
       "                                                                   SimpleImputer(strategy='constant')),\n",
       "                                                                  ('ohe',\n",
       "                                                                   OneHotEncoder(handle_unknown='ignore',\n",
       "                                                                                 sparse=False))]),\n",
       "                                                  [0, 2, 3, 4, 5, 6, 8, 9, 11,\n",
       "                                                   12, 13, 14, 15, 16, 17,\n",
       "                                                   18])])),\n",
       "                ('rfc_4',\n",
       "                 RandomForestClassifier(max_depth=15, max_samples=0.5,\n",
       "                                        min_samples_leaf=5, n_estimators=250,\n",
       "                                        n_jobs=-1, random_state=42))])"
      ]
     },
     "execution_count": 54,
     "metadata": {},
     "output_type": "execute_result"
    }
   ],
   "source": [
    "rfc_4 = RandomForestClassifier(random_state=42, max_depth=15, max_samples=0.5,  min_samples_leaf=5, n_estimators=250, n_jobs=-1)\n",
    "rfc_4_pipe= Pipeline([(\"ct\", CT), ('rfc_4', rfc_4)])\n",
    "rfc_4_pipe.fit(X_train, y_train)"
   ]
  },
  {
   "cell_type": "code",
   "execution_count": 55,
   "metadata": {},
   "outputs": [
    {
     "data": {
      "text/plain": [
       "0.7751515151515151"
      ]
     },
     "execution_count": 55,
     "metadata": {},
     "output_type": "execute_result"
    }
   ],
   "source": [
    "rfc_4_pipe.score(X_train, y_train)"
   ]
  },
  {
   "cell_type": "code",
   "execution_count": 56,
   "metadata": {},
   "outputs": [],
   "source": [
    "y_hat = rfc_4_pipe.predict(X_test)"
   ]
  },
  {
   "cell_type": "code",
   "execution_count": 58,
   "metadata": {},
   "outputs": [
    {
     "name": "stdout",
     "output_type": "stream",
     "text": [
      "\n",
      "Our final model's accuracy on the test set is 0.76. \n",
      "\n",
      "Our final model's recall on the test set is 0.56 \n",
      "\n",
      "Our final model's precision on the test set is 0.75 \n",
      "\n",
      "Our final model's f1-score on the test is 0.57.\n",
      "\n"
     ]
    }
   ],
   "source": [
    "print(f\"\"\"\n",
    "Our final model's accuracy on the test set is {round(accuracy_score(y_test, y_hat), 2)}. \\n\n",
    "Our final model's recall on the test set is {round(recall_score(y_test, y_hat,average= 'macro'), 2)} \\n\n",
    "Our final model's precision on the test set is {round(precision_score(y_test, y_hat,average= 'macro'), 2)} \\n\n",
    "Our final model's f1-score on the test is {round(f1_score(y_test, y_hat,average= 'macro'), 2)}.\n",
    "\"\"\")"
   ]
  },
  {
   "cell_type": "code",
   "execution_count": 57,
   "metadata": {},
   "outputs": [
    {
     "name": "stderr",
     "output_type": "stream",
     "text": [
      "C:\\Users\\Dell\\anaconda3\\lib\\site-packages\\sklearn\\utils\\deprecation.py:87: FutureWarning: Function plot_confusion_matrix is deprecated; Function `plot_confusion_matrix` is deprecated in 1.0 and will be removed in 1.2. Use one of the class methods: ConfusionMatrixDisplay.from_predictions or ConfusionMatrixDisplay.from_estimator.\n",
      "  warnings.warn(msg, category=FutureWarning)\n"
     ]
    },
    {
     "data": {
      "image/png": "[encoded data removed]",
      "text/plain": [
       "<Figure size 432x288 with 2 Axes>"
      ]
     },
     "metadata": {
      "needs_background": "light"
     },
     "output_type": "display_data"
    }
   ],
   "source": [
    "plot_confusion_matrix(rfc_4_pipe, X_test, y_test);"
   ]
  },
  {
   "cell_type": "code",
   "execution_count": 60,
   "metadata": {},
   "outputs": [
    {
     "data": {
      "text/plain": [
       "0.9449158249158249"
      ]
     },
     "execution_count": 60,
     "metadata": {},
     "output_type": "execute_result"
    }
   ],
   "source": [
    "rfc_5 = RandomForestClassifier(random_state=91839048, n_jobs=-1)\n",
    "rfc_5_pipe= Pipeline([(\"ct\", CT), ('rfc_5', rfc_5)])\n",
    "rfc_5_pipe.fit(X_train, y_train)\n",
    "\n",
    "rfc_5_pipe.score(X_train, y_train)"
   ]
  },
  {
   "cell_type": "markdown",
   "metadata": {},
   "source": [
    "Trying a much larger range of parameters in the Random Forest Grid Search. For some reason it had problems with min_samples_leaf of 14-20.\n",
    "\n",
    "The parameters I chose were max_depth which gives the number of decision points; n_estimators which is the number of trees used in each forest; min_samples_leaf which says finely tuned we can cut the data; and max_samples which allows us to devote a smaller percent of the data to each random forest. "
   ]
  },
  {
   "cell_type": "code",
   "execution_count": 68,
   "metadata": {},
   "outputs": [
    {
     "data": {
      "text/plain": [
       "Pipeline(steps=[('ct',\n",
       "                 ColumnTransformer(transformers=[('subpipe_num',\n",
       "                                                  Pipeline(steps=[('num_impute',\n",
       "                                                                   SimpleImputer(strategy='median')),\n",
       "                                                                  ('ss',\n",
       "                                                                   StandardScaler())]),\n",
       "                                                  [1, 7]),\n",
       "                                                 ('subpipe_cat',\n",
       "                                                  Pipeline(steps=[('cat_impute',\n",
       "                                                                   SimpleImputer(strategy='constant')),\n",
       "                                                                  ('ohe',\n",
       "                                                                   OneHotEncoder(handle_unknown='ignore',\n",
       "                                                                                 sparse=False))]),\n",
       "                                                  [0, 2, 3, 4, 5, 6, 8, 9, 11,\n",
       "                                                   12, 13, 14, 15, 16, 17,\n",
       "                                                   18])])),\n",
       "                ('rfc_5',\n",
       "                 RandomForestClassifier(max_depth=22,\n",
       "                                        max_samples=0.7000000000000001,\n",
       "                                        min_samples_leaf=5, n_estimators=250,\n",
       "                                        n_jobs=-1, random_state=91839048))])"
      ]
     },
     "execution_count": 68,
     "metadata": {},
     "output_type": "execute_result"
    }
   ],
   "source": [
    "\n",
    "# Grid of parameters to choose from\n",
    "parameters = {\"rfc_5__max_depth\": [3, 5, 10, 13, 16, 18, 22],\n",
    "    \"rfc_5__n_estimators\": [150, 250, 400, 700, 1000],\n",
    "    \"rfc_5__min_samples_leaf\": np.arange(5, 8, 10),\n",
    "    \"rfc_5__max_samples\": np.arange(0.1, 0.9, 0.2),\n",
    "             }\n",
    "\n",
    "# Run the grid search\n",
    "grid_obj = GridSearchCV(rfc_5_pipe, parameters, scoring=\"accuracy\",cv=5)\n",
    "grid_obj = grid_obj.fit(X_train, y_train)\n",
    "\n",
    "# Set the clf to the best combination of parameters\n",
    "rfc_5_pipe = grid_obj.best_estimator_\n",
    "\n",
    "# Fit the best algorithm to the data.\n",
    "rfc_5_pipe.fit(X_train, y_train)"
   ]
  },
  {
   "cell_type": "code",
   "execution_count": 70,
   "metadata": {},
   "outputs": [
    {
     "data": {
      "text/plain": [
       "Pipeline(steps=[('ct',\n",
       "                 ColumnTransformer(transformers=[('subpipe_num',\n",
       "                                                  Pipeline(steps=[('num_impute',\n",
       "                                                                   SimpleImputer(strategy='median')),\n",
       "                                                                  ('ss',\n",
       "                                                                   StandardScaler())]),\n",
       "                                                  [1, 7]),\n",
       "                                                 ('subpipe_cat',\n",
       "                                                  Pipeline(steps=[('cat_impute',\n",
       "                                                                   SimpleImputer(strategy='constant')),\n",
       "                                                                  ('ohe',\n",
       "                                                                   OneHotEncoder(handle_unknown='ignore',\n",
       "                                                                                 sparse=False))]),\n",
       "                                                  [0, 2, 3, 4, 5, 6, 8, 9, 11,\n",
       "                                                   12, 13, 14, 15, 16, 17,\n",
       "                                                   18])])),\n",
       "                ('rfc_6',\n",
       "                 RandomForestClassifier(max_depth=22, max_samples=0.7,\n",
       "                                        min_samples_leaf=5, n_estimators=250,\n",
       "                                        n_jobs=-1, random_state=42))])"
      ]
     },
     "execution_count": 70,
     "metadata": {},
     "output_type": "execute_result"
    }
   ],
   "source": [
    "rfc_6 = RandomForestClassifier(random_state=42, max_depth=22, max_samples=0.7,  min_samples_leaf=5, n_estimators=250, n_jobs=-1)\n",
    "rfc_6_pipe= Pipeline([(\"ct\", CT), ('rfc_6', rfc_6)])\n",
    "rfc_6_pipe.fit(X_train, y_train)"
   ]
  },
  {
   "cell_type": "code",
   "execution_count": 73,
   "metadata": {},
   "outputs": [
    {
     "data": {
      "text/plain": [
       "array([0.688844  , 0.68897868, 0.69158249, 0.69164983, 0.69382716,\n",
       "       0.69028058, 0.69140292, 0.69328844, 0.69328844, 0.69414141,\n",
       "       0.6901908 , 0.6908642 , 0.69351291, 0.69369248, 0.69429854,\n",
       "       0.68998878, 0.69104377, 0.69351291, 0.69344557, 0.69420875,\n",
       "       0.71156004, 0.71198653, 0.71209877, 0.71212121, 0.71194164,\n",
       "       0.71310887, 0.71436588, 0.71317621, 0.71313131, 0.71272727,\n",
       "       0.71223345, 0.71349046, 0.71344557, 0.71335578, 0.71335578,\n",
       "       0.71261504, 0.71331089, 0.71358025, 0.71375982, 0.71331089,\n",
       "       0.73418631, 0.73434343, 0.7349046 , 0.73521886, 0.73537598,\n",
       "       0.73950617, 0.74006734, 0.73979798, 0.73991021, 0.73977553,\n",
       "       0.74078563, 0.74053872, 0.74103255, 0.74109989, 0.74116723,\n",
       "       0.74159371, 0.74078563, 0.74139169, 0.74125701, 0.74154882,\n",
       "       0.74188552, 0.74143659, 0.7420202 , 0.74190797, 0.74179574,\n",
       "       0.74956229, 0.74989899, 0.75043771, 0.75034792, 0.75032548,\n",
       "       0.75369248, 0.75344557, 0.75346801, 0.75353535, 0.75391695,\n",
       "       0.75485971, 0.75485971, 0.75519641, 0.75510662, 0.75553311,\n",
       "       0.74439955, 0.74455668, 0.74487093, 0.74556678, 0.74572391,\n",
       "       0.75970819, 0.75914703, 0.75930415, 0.76008979, 0.76013468,\n",
       "       0.76359147, 0.76368126, 0.7647138 , 0.76464646, 0.76493827,\n",
       "       0.7657688 , 0.76581369, 0.76621773, 0.76682379, 0.76720539,\n",
       "       0.74781145, 0.74861953, 0.74864198, 0.74861953, 0.74864198,\n",
       "       0.76354658, 0.76352413, 0.76361392, 0.76406285, 0.76415264,\n",
       "       0.7681257 , 0.76729517, 0.76722783, 0.76754209, 0.76803591,\n",
       "       0.77023569, 0.77077441, 0.77093154, 0.77102132, 0.77135802,\n",
       "       0.74960718, 0.74965208, 0.7498092 , 0.74956229, 0.75005612,\n",
       "       0.76601571, 0.76565657, 0.76574635, 0.76570146, 0.76619529,\n",
       "       0.77171717, 0.77169473, 0.77178451, 0.77194164, 0.77205387,\n",
       "       0.77548822, 0.77582492, 0.77506173, 0.7752862 , 0.77510662])"
      ]
     },
     "execution_count": 73,
     "metadata": {},
     "output_type": "execute_result"
    }
   ],
   "source": [
    "grid_obj.cv_results_['mean_test_score']\n"
   ]
  },
  {
   "cell_type": "code",
   "execution_count": 94,
   "metadata": {},
   "outputs": [
    {
     "name": "stdout",
     "output_type": "stream",
     "text": [
      "\n",
      "Our final model's accuracy on the test set is 0.78. \n",
      "\n",
      "Our final model's recall on the test set is 0.58 \n",
      "\n",
      "Our final model's precision on the test set is 0.76 \n",
      "\n",
      "Our final model's f1-score on the test is 0.61.\n",
      "\n"
     ]
    },
    {
     "name": "stderr",
     "output_type": "stream",
     "text": [
      "C:\\Users\\Dell\\anaconda3\\lib\\site-packages\\sklearn\\utils\\deprecation.py:87: FutureWarning: Function plot_confusion_matrix is deprecated; Function `plot_confusion_matrix` is deprecated in 1.0 and will be removed in 1.2. Use one of the class methods: ConfusionMatrixDisplay.from_predictions or ConfusionMatrixDisplay.from_estimator.\n",
      "  warnings.warn(msg, category=FutureWarning)\n"
     ]
    },
    {
     "data": {
      "image/png": "[encoded data removed]",
      "text/plain": [
       "<Figure size 432x288 with 2 Axes>"
      ]
     },
     "metadata": {
      "needs_background": "light"
     },
     "output_type": "display_data"
    }
   ],
   "source": [
    "rfc_6_pipe.score(X_train, y_train)\n",
    "y_hat = rfc_6_pipe.predict(X_test)\n",
    "print(f\"\"\"\n",
    "Our final model's accuracy on the test set is {round(accuracy_score(y_test, y_hat), 2)}. \\n\n",
    "Our final model's recall on the test set is {round(recall_score(y_test, y_hat,average= 'macro'), 2)} \\n\n",
    "Our final model's precision on the test set is {round(precision_score(y_test, y_hat,average= 'macro'), 2)} \\n\n",
    "Our final model's f1-score on the test is {round(f1_score(y_test, y_hat,average= 'macro'), 2)}.\n",
    "\"\"\")\n",
    "plot_confusion_matrix(rfc_6_pipe, X_test, y_test); "
   ]
  },
  {
   "cell_type": "markdown",
   "metadata": {},
   "source": [
    "Running another grid search of random forest. The one parameter that didn't seem to be fully optimal is the max depth so I am trying some higher levels of max depth. Optimal trees were 250 so I am trying more around that area. Min samples per leaf was 5 so I am seeing "
   ]
  },
  {
   "cell_type": "code",
   "execution_count": 74,
   "metadata": {},
   "outputs": [
    {
     "data": {
      "text/plain": [
       "Pipeline(steps=[('ct',\n",
       "                 ColumnTransformer(transformers=[('subpipe_num',\n",
       "                                                  Pipeline(steps=[('num_impute',\n",
       "                                                                   SimpleImputer(strategy='median')),\n",
       "                                                                  ('ss',\n",
       "                                                                   StandardScaler())]),\n",
       "                                                  [1, 7]),\n",
       "                                                 ('subpipe_cat',\n",
       "                                                  Pipeline(steps=[('cat_impute',\n",
       "                                                                   SimpleImputer(strategy='constant')),\n",
       "                                                                  ('ohe',\n",
       "                                                                   OneHotEncoder(handle_unknown='ignore',\n",
       "                                                                                 sparse=False))]),\n",
       "                                                  [0, 2, 3, 4, 5, 6, 8, 9, 11,\n",
       "                                                   12, 13, 14, 15, 16, 17,\n",
       "                                                   18])])),\n",
       "                ('rfc_7', RandomForestClassifier(n_jobs=-1, random_state=42))])"
      ]
     },
     "execution_count": 74,
     "metadata": {},
     "output_type": "execute_result"
    }
   ],
   "source": [
    "rfc_7 = RandomForestClassifier(random_state=42, n_jobs=-1)\n",
    "rfc_7_pipe= Pipeline([(\"ct\", CT), ('rfc_7', rfc_7)])\n",
    "rfc_7_pipe.fit(X_train, y_train)"
   ]
  },
  {
   "cell_type": "code",
   "execution_count": null,
   "metadata": {},
   "outputs": [],
   "source": [
    "# Grid of parameters to choose from\n",
    "parameters = {\"rfc_7__max_depth\": [20, 22, 25, 32],\n",
    "    \"rfc_7__n_estimators\": [200, 250, 300],\n",
    "    \"rfc_7__min_samples_leaf\": np.arange(3, 5, 7),\n",
    "    \"rfc_7__max_samples\": np.arange(0.6, 0.8, 0.1),\n",
    "             }\n",
    "\n",
    "# Run the grid search\n",
    "grid_obj = GridSearchCV(rfc_7_pipe, parameters, scoring=\"recall\",cv=5)\n",
    "grid_obj = grid_obj.fit(X_train, y_train)\n",
    "\n",
    "# Set the clf to the best combination of parameters\n",
    "rfc_7_pipe = grid_obj.best_estimator_\n",
    "\n",
    "# Fit the best algorithm to the data.\n",
    "rfc_7_pipe.fit(X_train, y_train)\n",
    "#error message below"
   ]
  },
  {
   "cell_type": "code",
   "execution_count": 93,
   "metadata": {},
   "outputs": [
    {
     "data": {
      "text/plain": [
       "Pipeline(steps=[('ct',\n",
       "                 ColumnTransformer(transformers=[('subpipe_num',\n",
       "                                                  Pipeline(steps=[('num_impute',\n",
       "                                                                   SimpleImputer(strategy='median')),\n",
       "                                                                  ('ss',\n",
       "                                                                   StandardScaler())]),\n",
       "                                                  [1, 7]),\n",
       "                                                 ('subpipe_cat',\n",
       "                                                  Pipeline(steps=[('cat_impute',\n",
       "                                                                   SimpleImputer(strategy='constant')),\n",
       "                                                                  ('ohe',\n",
       "                                                                   OneHotEncoder(handle_unknown='ignore',\n",
       "                                                                                 sparse=False))]),\n",
       "                                                  [0, 2, 3, 4, 5, 6, 8, 9, 11,\n",
       "                                                   12, 13, 14, 15, 16, 17,\n",
       "                                                   18])])),\n",
       "                ('rfc_7',\n",
       "                 RandomForestClassifier(max_depth=32, max_samples=0.8,\n",
       "                                        min_samples_leaf=3, n_estimators=300,\n",
       "                                        n_jobs=-1, random_state=42))])"
      ]
     },
     "execution_count": 93,
     "metadata": {},
     "output_type": "execute_result"
    }
   ],
   "source": [
    "# Grid of parameters to choose from\n",
    "parameters = {\"rfc_7__max_depth\": [20, 22, 25, 32],\n",
    "    \"rfc_7__n_estimators\": [200, 250, 300],\n",
    "    \"rfc_7__min_samples_leaf\": [3, 5, 7],\n",
    "    \"rfc_7__max_samples\": [0.6, 0.7, 0.8],\n",
    "             }\n",
    "\n",
    "\n",
    "# Run the grid search\n",
    "grid_obj = GridSearchCV(rfc_7_pipe, parameters, scoring= scorer,cv=5)\n",
    "grid_obj = grid_obj.fit(X_train, y_train)\n",
    "\n",
    "# Set the clf to the best combination of parameters\n",
    "rfc_7_pipe = grid_obj.best_estimator_\n",
    "\n",
    "# Fit the best algorithm to the data.\n",
    "rfc_7_pipe.fit(X_train, y_train)"
   ]
  },
  {
   "cell_type": "code",
   "execution_count": 95,
   "metadata": {},
   "outputs": [
    {
     "data": {
      "text/plain": [
       "Pipeline(steps=[('ct',\n",
       "                 ColumnTransformer(transformers=[('subpipe_num',\n",
       "                                                  Pipeline(steps=[('num_impute',\n",
       "                                                                   SimpleImputer(strategy='median')),\n",
       "                                                                  ('ss',\n",
       "                                                                   StandardScaler())]),\n",
       "                                                  [1, 7]),\n",
       "                                                 ('subpipe_cat',\n",
       "                                                  Pipeline(steps=[('cat_impute',\n",
       "                                                                   SimpleImputer(strategy='constant')),\n",
       "                                                                  ('ohe',\n",
       "                                                                   OneHotEncoder(handle_unknown='ignore',\n",
       "                                                                                 sparse=False))]),\n",
       "                                                  [0, 2, 3, 4, 5, 6, 8, 9, 11,\n",
       "                                                   12, 13, 14, 15, 16, 17,\n",
       "                                                   18])])),\n",
       "                ('rfc_7',\n",
       "                 RandomForestClassifier(max_depth=32, max_samples=0.8,\n",
       "                                        min_samples_leaf=3, n_estimators=300,\n",
       "                                        n_jobs=-1, random_state=42))])"
      ]
     },
     "execution_count": 95,
     "metadata": {},
     "output_type": "execute_result"
    }
   ],
   "source": [
    "rfc_7 = RandomForestClassifier(random_state=42, max_depth=32, max_samples=0.8,  min_samples_leaf=3, n_estimators=300, n_jobs=-1)\n",
    "rfc_7_pipe= Pipeline([(\"ct\", CT), ('rfc_7', rfc_7)])\n",
    "rfc_7_pipe.fit(X_train, y_train)"
   ]
  },
  {
   "cell_type": "code",
   "execution_count": 96,
   "metadata": {},
   "outputs": [
    {
     "name": "stdout",
     "output_type": "stream",
     "text": [
      "\n",
      "Our final model's accuracy on the test set is 0.79. \n",
      "\n",
      "Our final model's recall on the test set is 0.61 \n",
      "\n",
      "Our final model's precision on the test set is 0.76 \n",
      "\n",
      "Our final model's f1-score on the test is 0.64.\n",
      "\n"
     ]
    },
    {
     "name": "stderr",
     "output_type": "stream",
     "text": [
      "C:\\Users\\Dell\\anaconda3\\lib\\site-packages\\sklearn\\utils\\deprecation.py:87: FutureWarning: Function plot_confusion_matrix is deprecated; Function `plot_confusion_matrix` is deprecated in 1.0 and will be removed in 1.2. Use one of the class methods: ConfusionMatrixDisplay.from_predictions or ConfusionMatrixDisplay.from_estimator.\n",
      "  warnings.warn(msg, category=FutureWarning)\n"
     ]
    },
    {
     "data": {
      "image/png": "[encoded data removed]",
      "text/plain": [
       "<Figure size 432x288 with 2 Axes>"
      ]
     },
     "metadata": {
      "needs_background": "light"
     },
     "output_type": "display_data"
    }
   ],
   "source": [
    "rfc_7_pipe.score(X_train, y_train)\n",
    "y_hat = rfc_7_pipe.predict(X_test)\n",
    "print(f\"\"\"\n",
    "Our final model's accuracy on the test set is {round(accuracy_score(y_test, y_hat), 2)}. \\n\n",
    "Our final model's recall on the test set is {round(recall_score(y_test, y_hat,average= 'macro'), 2)} \\n\n",
    "Our final model's precision on the test set is {round(precision_score(y_test, y_hat,average= 'macro'), 2)} \\n\n",
    "Our final model's f1-score on the test is {round(f1_score(y_test, y_hat,average= 'macro'), 2)}.\n",
    "\"\"\")\n",
    "plot_confusion_matrix(rfc_7_pipe, X_test, y_test); "
   ]
  },
  {
   "cell_type": "code",
   "execution_count": 98,
   "metadata": {},
   "outputs": [
    {
     "data": {
      "text/plain": [
       "Pipeline(steps=[('ct',\n",
       "                 ColumnTransformer(transformers=[('subpipe_num',\n",
       "                                                  Pipeline(steps=[('num_impute',\n",
       "                                                                   SimpleImputer(strategy='median')),\n",
       "                                                                  ('ss',\n",
       "                                                                   StandardScaler())]),\n",
       "                                                  [1, 7]),\n",
       "                                                 ('subpipe_cat',\n",
       "                                                  Pipeline(steps=[('cat_impute',\n",
       "                                                                   SimpleImputer(strategy='constant')),\n",
       "                                                                  ('ohe',\n",
       "                                                                   OneHotEncoder(handle_unknown='ignore',\n",
       "                                                                                 sparse=False))]),\n",
       "                                                  [0, 2, 3, 4, 5, 6, 8, 9, 11,\n",
       "                                                   12, 13, 14, 15, 16, 17,\n",
       "                                                   18])])),\n",
       "                ('rfc_7', RandomForestClassifier(n_jobs=-1, random_state=42))])"
      ]
     },
     "execution_count": 98,
     "metadata": {},
     "output_type": "execute_result"
    }
   ],
   "source": [
    "#Do I need to change the number at the end? Right now I am running the same thing over and over again?\n",
    "#Where do I need to change the number to show it is a different model?\n",
    "rfc_7 = RandomForestClassifier(random_state=42, n_jobs=-1)\n",
    "rfc_7_pipe= Pipeline([(\"ct\", CT), ('rfc_7', rfc_7)])\n",
    "rfc_7_pipe.fit(X_train, y_train)"
   ]
  },
  {
   "cell_type": "code",
   "execution_count": 101,
   "metadata": {},
   "outputs": [
    {
     "data": {
      "text/plain": [
       "Pipeline(steps=[('ct',\n",
       "                 ColumnTransformer(transformers=[('subpipe_num',\n",
       "                                                  Pipeline(steps=[('num_impute',\n",
       "                                                                   SimpleImputer(strategy='median')),\n",
       "                                                                  ('ss',\n",
       "                                                                   StandardScaler())]),\n",
       "                                                  [1, 7]),\n",
       "                                                 ('subpipe_cat',\n",
       "                                                  Pipeline(steps=[('cat_impute',\n",
       "                                                                   SimpleImputer(strategy='constant')),\n",
       "                                                                  ('ohe',\n",
       "                                                                   OneHotEncoder(handle_unknown='ignore',\n",
       "                                                                                 sparse=False))]),\n",
       "                                                  [0, 2, 3, 4, 5, 6, 8, 9, 11,\n",
       "                                                   12, 13, 14, 15, 16, 17,\n",
       "                                                   18])])),\n",
       "                ('rfc_7',\n",
       "                 RandomForestClassifier(criterion='entropy', max_depth=32,\n",
       "                                        max_samples=0.8, min_samples_leaf=3,\n",
       "                                        n_estimators=300, n_jobs=-1,\n",
       "                                        random_state=42))])"
      ]
     },
     "execution_count": 101,
     "metadata": {},
     "output_type": "execute_result"
    }
   ],
   "source": [
    "# Grid of parameters to choose from\n",
    "#Testing Gini vs entropy to see if my model will run\n",
    "parameters = {\"rfc_7__max_depth\": [32],\n",
    "    \"rfc_7__n_estimators\": [300],\n",
    "    \"rfc_7__min_samples_leaf\": [3],\n",
    "    \"rfc_7__max_samples\": [0.8],\n",
    "    \"rfc_7__criterion\": [\"gini\", \"entropy\"],\n",
    "             }\n",
    "\n",
    "\n",
    "# Run the grid search\n",
    "grid_obj = GridSearchCV(rfc_7_pipe, parameters, scoring= scorer,cv=5)\n",
    "grid_obj = grid_obj.fit(X_train, y_train)\n",
    "\n",
    "# Set the clf to the best combination of parameters\n",
    "rfc_7_pipe = grid_obj.best_estimator_\n",
    "\n",
    "# Fit the best algorithm to the data.\n",
    "rfc_7_pipe.fit(X_train, y_train)"
   ]
  },
  {
   "cell_type": "code",
   "execution_count": 104,
   "metadata": {},
   "outputs": [
    {
     "data": {
      "text/plain": [
       "Pipeline(steps=[('ct',\n",
       "                 ColumnTransformer(transformers=[('subpipe_num',\n",
       "                                                  Pipeline(steps=[('num_impute',\n",
       "                                                                   SimpleImputer(strategy='median')),\n",
       "                                                                  ('ss',\n",
       "                                                                   StandardScaler())]),\n",
       "                                                  [1, 7]),\n",
       "                                                 ('subpipe_cat',\n",
       "                                                  Pipeline(steps=[('cat_impute',\n",
       "                                                                   SimpleImputer(strategy='constant')),\n",
       "                                                                  ('ohe',\n",
       "                                                                   OneHotEncoder(handle_unknown='ignore',\n",
       "                                                                                 sparse=False))]),\n",
       "                                                  [0, 2, 3, 4, 5, 6, 8, 9, 11,\n",
       "                                                   12, 13, 14, 15, 16, 17,\n",
       "                                                   18])])),\n",
       "                ('rfc_7',\n",
       "                 RandomForestClassifier(max_depth=32, max_samples=0.8,\n",
       "                                        min_samples_leaf=3, n_estimators=300,\n",
       "                                        n_jobs=-1, random_state=42))])"
      ]
     },
     "execution_count": 104,
     "metadata": {},
     "output_type": "execute_result"
    }
   ],
   "source": [
    "rfc_7 = RandomForestClassifier(random_state=42, max_depth=32, max_samples=0.8,  min_samples_leaf=3, n_estimators=300, criterion = \"gini\", n_jobs=-1)\n",
    "rfc_7_pipe= Pipeline([(\"ct\", CT), ('rfc_7', rfc_7)])\n",
    "rfc_7_pipe.fit(X_train, y_train)"
   ]
  },
  {
   "cell_type": "code",
   "execution_count": 105,
   "metadata": {},
   "outputs": [
    {
     "name": "stdout",
     "output_type": "stream",
     "text": [
      "\n",
      "Our final model's accuracy on the test set is 0.79. \n",
      "\n",
      "Our final model's recall on the test set is 0.61 \n",
      "\n",
      "Our final model's precision on the test set is 0.76 \n",
      "\n",
      "Our final model's f1-score on the test is 0.64.\n",
      "\n"
     ]
    },
    {
     "name": "stderr",
     "output_type": "stream",
     "text": [
      "C:\\Users\\Dell\\anaconda3\\lib\\site-packages\\sklearn\\utils\\deprecation.py:87: FutureWarning: Function plot_confusion_matrix is deprecated; Function `plot_confusion_matrix` is deprecated in 1.0 and will be removed in 1.2. Use one of the class methods: ConfusionMatrixDisplay.from_predictions or ConfusionMatrixDisplay.from_estimator.\n",
      "  warnings.warn(msg, category=FutureWarning)\n"
     ]
    },
    {
     "data": {
      "image/png": "[encoded data removed]",
      "text/plain": [
       "<Figure size 432x288 with 2 Axes>"
      ]
     },
     "metadata": {
      "needs_background": "light"
     },
     "output_type": "display_data"
    }
   ],
   "source": [
    "rfc_7_pipe.score(X_train, y_train)\n",
    "y_hat = rfc_7_pipe.predict(X_test)\n",
    "print(f\"\"\"\n",
    "Our final model's accuracy on the test set is {round(accuracy_score(y_test, y_hat), 2)}. \\n\n",
    "Our final model's recall on the test set is {round(recall_score(y_test, y_hat,average= 'macro'), 2)} \\n\n",
    "Our final model's precision on the test set is {round(precision_score(y_test, y_hat,average= 'macro'), 2)} \\n\n",
    "Our final model's f1-score on the test is {round(f1_score(y_test, y_hat,average= 'macro'), 2)}.\n",
    "\"\"\")\n",
    "plot_confusion_matrix(rfc_7_pipe, X_test, y_test); "
   ]
  },
  {
   "cell_type": "code",
   "execution_count": 109,
   "metadata": {},
   "outputs": [
    {
     "name": "stdout",
     "output_type": "stream",
     "text": [
      "\n",
      "Our final model's accuracy on the test set is 0.79. \n",
      "\n",
      "Our final model's recall on the test set is 0.61 \n",
      "\n",
      "Our final model's precision on the test set is 0.76 \n",
      "\n",
      "Our final model's f1-score on the test is 0.64.\n",
      "\n"
     ]
    },
    {
     "name": "stderr",
     "output_type": "stream",
     "text": [
      "C:\\Users\\Dell\\anaconda3\\lib\\site-packages\\sklearn\\utils\\deprecation.py:87: FutureWarning: Function plot_confusion_matrix is deprecated; Function `plot_confusion_matrix` is deprecated in 1.0 and will be removed in 1.2. Use one of the class methods: ConfusionMatrixDisplay.from_predictions or ConfusionMatrixDisplay.from_estimator.\n",
      "  warnings.warn(msg, category=FutureWarning)\n"
     ]
    },
    {
     "data": {
      "image/png": "[encoded data removed]",
      "text/plain": [
       "<Figure size 432x288 with 2 Axes>"
      ]
     },
     "metadata": {
      "needs_background": "light"
     },
     "output_type": "display_data"
    }
   ],
   "source": [
    "rfc_7_pipe.score(X_train, y_train)\n",
    "y_hat = rfc_7_pipe.predict(X_test)\n",
    "print(f\"\"\"\n",
    "Our final model's accuracy on the test set is {round(accuracy_score(y_test, y_hat), 2)}. \\n\n",
    "Our final model's recall on the test set is {round(recall_score(y_test, y_hat,average= 'macro'), 2)} \\n\n",
    "Our final model's precision on the test set is {round(precision_score(y_test, y_hat,average= 'macro'), 2)} \\n\n",
    "Our final model's f1-score on the test is {round(f1_score(y_test, y_hat,average= 'macro'), 2)}.\n",
    "\"\"\")\n",
    "plot_confusion_matrix(rfc_7_pipe, X_test, y_test, normalize = \"true\"); "
   ]
  },
  {
   "cell_type": "markdown",
   "metadata": {},
   "source": [
    "Prior model with everything same except using gini- are they the same?\n",
    "Our final model's accuracy on the test set is 0.79. \n",
    "\n",
    "Our final model's recall on the test set is 0.61 \n",
    "\n",
    "Our final model's precision on the test set is 0.76 \n",
    "\n",
    "Our final model's f1-score on the test is 0.64."
   ]
  },
  {
   "cell_type": "code",
   "execution_count": 106,
   "metadata": {},
   "outputs": [
    {
     "data": {
      "text/plain": [
       "0.8238608305274971"
      ]
     },
     "execution_count": 106,
     "metadata": {},
     "output_type": "execute_result"
    }
   ],
   "source": [
    "rfc_7_pipe.score(X_train, y_train)"
   ]
  },
  {
   "cell_type": "code",
   "execution_count": 107,
   "metadata": {},
   "outputs": [
    {
     "data": {
      "text/plain": [
       "Pipeline(steps=[('ct',\n",
       "                 ColumnTransformer(transformers=[('subpipe_num',\n",
       "                                                  Pipeline(steps=[('num_impute',\n",
       "                                                                   SimpleImputer(strategy='median')),\n",
       "                                                                  ('ss',\n",
       "                                                                   StandardScaler())]),\n",
       "                                                  [1, 7]),\n",
       "                                                 ('subpipe_cat',\n",
       "                                                  Pipeline(steps=[('cat_impute',\n",
       "                                                                   SimpleImputer(strategy='constant')),\n",
       "                                                                  ('ohe',\n",
       "                                                                   OneHotEncoder(handle_unknown='ignore',\n",
       "                                                                                 sparse=False))]),\n",
       "                                                  [0, 2, 3, 4, 5, 6, 8, 9, 11,\n",
       "                                                   12, 13, 14, 15, 16, 17,\n",
       "                                                   18])])),\n",
       "                ('rfc_8', RandomForestClassifier(n_jobs=-1, random_state=42))])"
      ]
     },
     "execution_count": 107,
     "metadata": {},
     "output_type": "execute_result"
    }
   ],
   "source": [
    "rfc_8 = RandomForestClassifier(random_state=42, n_jobs=-1)\n",
    "rfc_8_pipe= Pipeline([(\"ct\", CT), ('rfc_8', rfc_8)])\n",
    "rfc_8_pipe.fit(X_train, y_train)"
   ]
  },
  {
   "cell_type": "markdown",
   "metadata": {},
   "source": [
    "Trying a new set of parameters and including criterion, higher max depth, and lower minimum leaf."
   ]
  },
  {
   "cell_type": "code",
   "execution_count": 108,
   "metadata": {},
   "outputs": [
    {
     "data": {
      "text/plain": [
       "Pipeline(steps=[('ct',\n",
       "                 ColumnTransformer(transformers=[('subpipe_num',\n",
       "                                                  Pipeline(steps=[('num_impute',\n",
       "                                                                   SimpleImputer(strategy='median')),\n",
       "                                                                  ('ss',\n",
       "                                                                   StandardScaler())]),\n",
       "                                                  [1, 7]),\n",
       "                                                 ('subpipe_cat',\n",
       "                                                  Pipeline(steps=[('cat_impute',\n",
       "                                                                   SimpleImputer(strategy='constant')),\n",
       "                                                                  ('ohe',\n",
       "                                                                   OneHotEncoder(handle_unknown='ignore',\n",
       "                                                                                 sparse=False))]),\n",
       "                                                  [0, 2, 3, 4, 5, 6, 8, 9, 11,\n",
       "                                                   12, 13, 14, 15, 16, 17,\n",
       "                                                   18])])),\n",
       "                ('rfc_8',\n",
       "                 RandomForestClassifier(criterion='entropy', max_depth=35,\n",
       "                                        max_samples=0.9, min_samples_leaf=2,\n",
       "                                        n_estimators=300, n_jobs=-1,\n",
       "                                        random_state=42))])"
      ]
     },
     "execution_count": 108,
     "metadata": {},
     "output_type": "execute_result"
    }
   ],
   "source": [
    "# Grid of parameters to choose from\n",
    "#New set \n",
    "parameters = {\"rfc_8__max_depth\": [28, 32, 35, 42],\n",
    "    \"rfc_8__n_estimators\": [250, 300, 350],\n",
    "    \"rfc_8__min_samples_leaf\": [2, 3, 4],\n",
    "    \"rfc_8__max_samples\": [0.7, 0.8, 0.9],\n",
    "    \"rfc_8__criterion\": [\"gini\", \"entropy\"],\n",
    "             }\n",
    "\n",
    "\n",
    "# Run the grid search\n",
    "grid_obj = GridSearchCV(rfc_8_pipe, parameters, scoring= scorer,cv=5)\n",
    "grid_obj = grid_obj.fit(X_train, y_train)\n",
    "\n",
    "# Set the clf to the best combination of parameters\n",
    "rfc_8_pipe = grid_obj.best_estimator_\n",
    "\n",
    "# Fit the best algorithm to the data.\n",
    "rfc_8_pipe.fit(X_train, y_train)"
   ]
  },
  {
   "cell_type": "code",
   "execution_count": 110,
   "metadata": {},
   "outputs": [
    {
     "data": {
      "text/plain": [
       "Pipeline(steps=[('ct',\n",
       "                 ColumnTransformer(transformers=[('subpipe_num',\n",
       "                                                  Pipeline(steps=[('num_impute',\n",
       "                                                                   SimpleImputer(strategy='median')),\n",
       "                                                                  ('ss',\n",
       "                                                                   StandardScaler())]),\n",
       "                                                  [1, 7]),\n",
       "                                                 ('subpipe_cat',\n",
       "                                                  Pipeline(steps=[('cat_impute',\n",
       "                                                                   SimpleImputer(strategy='constant')),\n",
       "                                                                  ('ohe',\n",
       "                                                                   OneHotEncoder(handle_unknown='ignore',\n",
       "                                                                                 sparse=False))]),\n",
       "                                                  [0, 2, 3, 4, 5, 6, 8, 9, 11,\n",
       "                                                   12, 13, 14, 15, 16, 17,\n",
       "                                                   18])])),\n",
       "                ('rfc_8',\n",
       "                 RandomForestClassifier(max_depth=32, max_samples=0.9,\n",
       "                                        min_samples_leaf=2, n_estimators=300,\n",
       "                                        n_jobs=-1, random_state=42))])"
      ]
     },
     "execution_count": 110,
     "metadata": {},
     "output_type": "execute_result"
    }
   ],
   "source": [
    "rfc_8 = RandomForestClassifier(random_state=42, max_depth=32, max_samples=0.9,  min_samples_leaf=2, n_estimators=300, n_jobs=-1)\n",
    "rfc_8_pipe= Pipeline([(\"ct\", CT), ('rfc_8', rfc_8)])\n",
    "rfc_8_pipe.fit(X_train, y_train)"
   ]
  },
  {
   "cell_type": "code",
   "execution_count": 111,
   "metadata": {},
   "outputs": [
    {
     "name": "stdout",
     "output_type": "stream",
     "text": [
      "\n",
      "Our final model's accuracy on the test set is 0.79. \n",
      "\n",
      "Our final model's recall on the test set is 0.62 \n",
      "\n",
      "Our final model's precision on the test set is 0.74 \n",
      "\n",
      "Our final model's f1-score on the test is 0.65.\n",
      "\n"
     ]
    },
    {
     "name": "stderr",
     "output_type": "stream",
     "text": [
      "C:\\Users\\Dell\\anaconda3\\lib\\site-packages\\sklearn\\utils\\deprecation.py:87: FutureWarning: Function plot_confusion_matrix is deprecated; Function `plot_confusion_matrix` is deprecated in 1.0 and will be removed in 1.2. Use one of the class methods: ConfusionMatrixDisplay.from_predictions or ConfusionMatrixDisplay.from_estimator.\n",
      "  warnings.warn(msg, category=FutureWarning)\n"
     ]
    },
    {
     "data": {
      "image/png": "[encoded data removed]",
      "text/plain": [
       "<Figure size 432x288 with 2 Axes>"
      ]
     },
     "metadata": {
      "needs_background": "light"
     },
     "output_type": "display_data"
    }
   ],
   "source": [
    "rfc_8_pipe.score(X_train, y_train)\n",
    "y_hat = rfc_8_pipe.predict(X_test)\n",
    "print(f\"\"\"\n",
    "Our final model's accuracy on the test set is {round(accuracy_score(y_test, y_hat), 2)}. \\n\n",
    "Our final model's recall on the test set is {round(recall_score(y_test, y_hat,average= 'macro'), 2)} \\n\n",
    "Our final model's precision on the test set is {round(precision_score(y_test, y_hat,average= 'macro'), 2)} \\n\n",
    "Our final model's f1-score on the test is {round(f1_score(y_test, y_hat,average= 'macro'), 2)}.\n",
    "\"\"\")\n",
    "plot_confusion_matrix(rfc_8_pipe, X_test, y_test); "
   ]
  },
  {
   "cell_type": "markdown",
   "metadata": {},
   "source": [
    "Running the one below to see if training scorer is overweighted. This is only the accuracy score. Is there a way to get\n",
    "all 4 of the relevant scores?"
   ]
  },
  {
   "cell_type": "code",
   "execution_count": 113,
   "metadata": {},
   "outputs": [
    {
     "data": {
      "text/plain": [
       "0.8491133557800224"
      ]
     },
     "execution_count": 113,
     "metadata": {},
     "output_type": "execute_result"
    }
   ],
   "source": [
    "rfc_8_pipe.score(X_train, y_train)"
   ]
  },
  {
   "cell_type": "markdown",
   "metadata": {},
   "source": [
    "3) SMOTE Logistic Regression: best accuracy- 0.74, best recall- 0.74\n",
    "2) Random Forest: best accuracy: 0.79, best recall 0.62\n",
    "1) Dummy Classifier: best accuracy- 0.54, best recall-0.54\n",
    "4) Decision Tree: best accuracy: 0.75, best recall 0.75\n",
    "5) HistGradientBoostingClassifier - 78.9 recall accuracy\n",
    "6) CatBoostClassifier-79 recall and accuracy\n",
    "\n",
    "\n",
    "[54, 62, 74, 75, 79, 79]"
   ]
  },
  {
   "cell_type": "code",
   "execution_count": 42,
   "metadata": {},
   "outputs": [
    {
     "data": {
      "text/plain": [
       "Text(0, 0.5, 'Prediction Percentage')"
      ]
     },
     "execution_count": 42,
     "metadata": {},
     "output_type": "execute_result"
    },
    {
     "data": {
      "image/png": "[encoded data removed]",
      "text/plain": [
       "<Figure size 576x432 with 1 Axes>"
      ]
     },
     "metadata": {
      "needs_background": "light"
     },
     "output_type": "display_data"
    }
   ],
   "source": [
    "#X values\n",
    "\n",
    "\n",
    "Percent_Accuracy = [54, 74, 75, 79]\n",
    "#X labels\n",
    "x = [\"Base\", \"Log Reg\", \"Dec Tree\", \"Ran For\"]\n",
    "#no idea what it does\n",
    "#labels = \"Genres\"\n",
    "\n",
    "# Create the plot\n",
    "fig, ax = plt.subplots(figsize=(8, 6))\n",
    "\n",
    "# Plot vertical bars of fixed width by passing x and height values to .bar() function \n",
    "ax.bar(x, Percent_Accuracy)\n",
    "\n",
    "# Give a title to the bar graph and label the axes\n",
    "ax.set_title(\"Model Prediction Improvement\")\n",
    "\n",
    "# Set labels for X and Y axes\n",
    "ax.set_xlabel(\"Models\")\n",
    "ax.set_ylabel(\"Prediction Percentage\")"
   ]
  },
  {
   "cell_type": "code",
   "execution_count": 61,
   "metadata": {},
   "outputs": [
    {
     "data": {
      "text/plain": [
       "Text(0, 0.5, 'Accuracy Percentage')"
      ]
     },
     "execution_count": 61,
     "metadata": {},
     "output_type": "execute_result"
    },
    {
     "data": {
      "image/png": "[encoded data removed]",
      "text/plain": [
       "<Figure size 864x432 with 1 Axes>"
      ]
     },
     "metadata": {
      "needs_background": "light"
     },
     "output_type": "display_data"
    }
   ],
   "source": [
    "fig, ax = plt.subplots(figsize=(12, 6))\n",
    "Percent_Accuracy = [54, 74, 75, 79, 79, 79]\n",
    "Models = [\"Baseline\", \"Log Reg\", \"Decision Tree\", \"HistGradientBoosting\", \"Random Forest\", \"CatBoost\"]\n",
    "ax = sns.barplot(x= Models, y= Percent_Accuracy, palette='Reds_d')\n",
    "#plt.ylim(30)\n",
    "ax.set_ylim(0, 100)\n",
    "ax.set_title(\"Model Accuracy Improvement\", fontsize = 20)\n",
    "ax.set_xlabel(\"Models\", fontsize = 15)\n",
    "ax.set_ylabel(\"Accuracy Percentage\", fontsize = 15)\n"
   ]
  },
  {
   "cell_type": "code",
   "execution_count": 63,
   "metadata": {},
   "outputs": [
    {
     "data": {
      "text/plain": [
       "Text(0, 0.5, 'Recall Percentage')"
      ]
     },
     "execution_count": 63,
     "metadata": {},
     "output_type": "execute_result"
    },
    {
     "data": {
      "image/png": "[encoded data removed]",
      "text/plain": [
       "<Figure size 864x432 with 1 Axes>"
      ]
     },
     "metadata": {
      "needs_background": "light"
     },
     "output_type": "display_data"
    }
   ],
   "source": [
    "fig, ax = plt.subplots(figsize=(12, 6))\n",
    "Percent_Accuracy = [54, 62, 74, 75, 79, 79]\n",
    "Models = [\"Baseline\", \"Random Forest\", \"Log Reg\", \"Decision Tree\", \"HistGradientBoosting\", \"CatBoost\"]\n",
    "ax = sns.barplot(x= Models, y= Percent_Accuracy, palette='Greens_d')\n",
    "#plt.ylim(30)\n",
    "ax.set_ylim(0, 100)\n",
    "ax.set_title(\"Model Recall Improvement\", fontsize = 20)\n",
    "ax.set_xlabel(\"Models\", fontsize = 15)\n",
    "ax.set_ylabel(\"Recall Percentage\", fontsize = 15)\n"
   ]
  },
  {
   "cell_type": "code",
   "execution_count": null,
   "metadata": {},
   "outputs": [],
   "source": [
    "3) SMOTE Logistic Regression: best accuracy- 0.74, best recall- 0.74\n",
    "2) Random Forest: best accuracy: 0.79, best recall 0.62\n",
    "1) Dummy Classifier: best accuracy- 0.54, best recall-0.54\n",
    "4) Decision Tree: best accuracy: 0.75, best recall 0.75\n",
    "5) HistGradientBoostingClassifier - 78.9 recall accuracy\n",
    "6) CatBoostClassifier-79 recall and accuracy\n",
    "\n",
    "ax.set_title(\"Model Accuracy Improvement\", fontsize = 20)\n",
    "ax.set_xlabel(\"Models\", fontsize = 15)\n",
    "ax.set_ylabel(\"Accuracy Percentage\", fontsize = 15)"
   ]
  }
 ],
 "metadata": {
  "interpreter": {
   "hash": "4ad65dd45c2d07e74b12869848a281d31b75ca788164d45805ca064cbe1f6cb6"
  },
  "kernelspec": {
   "display_name": "Python 3 (ipykernel)",
   "language": "python",
   "name": "python3"
  },
  "language_info": {
   "codemirror_mode": {
    "name": "ipython",
    "version": 3
   },
   "file_extension": ".py",
   "mimetype": "text/x-python",
   "name": "python",
   "nbconvert_exporter": "python",
   "pygments_lexer": "ipython3",
   "version": "3.9.7"
  }
 },
 "nbformat": 4,
 "nbformat_minor": 2
}
