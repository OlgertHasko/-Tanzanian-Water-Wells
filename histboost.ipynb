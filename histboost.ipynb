{
 "cells": [
  {
   "cell_type": "code",
   "execution_count": 2,
   "metadata": {},
   "outputs": [],
   "source": [
    "import pandas as pd\n",
    "from sklearn.preprocessing import StandardScaler\n",
    "from sklearn.linear_model import LogisticRegression\n",
    "from sklearn.neighbors import KNeighborsClassifier\n",
    "from sklearn.tree import DecisionTreeClassifier\n",
    "from sklearn.impute import SimpleImputer\n",
    "from sklearn.pipeline import Pipeline\n",
    "from sklearn.compose import ColumnTransformer\n",
    "from sklearn.preprocessing import OneHotEncoder , FunctionTransformer\n",
    "from sklearn.dummy import DummyRegressor\n",
    "from sklearn.ensemble import RandomForestClassifier, GradientBoostingClassifier\n",
    "from sklearn.compose import ColumnTransformer\n",
    "from sklearn.model_selection import train_test_split, GridSearchCV, cross_validate\n",
    "from sklearn.metrics import plot_confusion_matrix, recall_score,\\\n",
    "    accuracy_score, precision_score, f1_score\n",
    "import matplotlib.pyplot as plt"
   ]
  },
  {
   "cell_type": "code",
   "execution_count": 3,
   "metadata": {},
   "outputs": [],
   "source": [
    "df_desc = pd.read_csv(\"data/key.csv\", index_col = 0)\n",
    "df = pd.read_csv(\"data/data_clean.csv\")\n",
    "df = df.drop(\"Unnamed: 0\",axis=1)"
   ]
  },
  {
   "cell_type": "code",
   "execution_count": 4,
   "metadata": {},
   "outputs": [],
   "source": [
    "def int_to_object(df):\n",
    "    df[\"region_code\"] = df[\"region_code\"].astype(object)\n",
    "    df[\"district_code\"] = df[\"district_code\"].astype(object)\n",
    "    df[\"public_meeting\"] = df[\"public_meeting\"].astype(str)\n",
    "    df[\"permit\"] = df[\"permit\"].astype(str)\n",
    "    df[\"construction_year_bins\"] = df[\"construction_year_bins\"].astype(str)\n",
    "    return df.dtypes"
   ]
  },
  {
   "cell_type": "code",
   "execution_count": 5,
   "metadata": {},
   "outputs": [
    {
     "data": {
      "text/plain": [
       "funder                    object\n",
       "gps_height                 int64\n",
       "installer                 object\n",
       "wpt_name                  object\n",
       "basin                     object\n",
       "region_code               object\n",
       "district_code             object\n",
       "population                 int64\n",
       "public_meeting            object\n",
       "permit                    object\n",
       "extraction_type_class     object\n",
       "management                object\n",
       "payment_type              object\n",
       "quality_group             object\n",
       "quantity                  object\n",
       "source                    object\n",
       "source_class              object\n",
       "waterpoint_type           object\n",
       "status_group              object\n",
       "construction_year_bins    object\n",
       "dtype: object"
      ]
     },
     "execution_count": 5,
     "metadata": {},
     "output_type": "execute_result"
    }
   ],
   "source": [
    "int_to_object(df)"
   ]
  },
  {
   "cell_type": "code",
   "execution_count": 6,
   "metadata": {},
   "outputs": [],
   "source": [
    "X = df.drop([\"status_group\"], axis=1)\n",
    "y = df['status_group']"
   ]
  },
  {
   "cell_type": "code",
   "execution_count": 7,
   "metadata": {},
   "outputs": [],
   "source": [
    "X_train, X_test, y_train, y_test = train_test_split(X, y, random_state=465615615)"
   ]
  },
  {
   "cell_type": "code",
   "execution_count": 8,
   "metadata": {},
   "outputs": [],
   "source": [
    "def grab_numeric(df):\n",
    "    return df.select_dtypes(include=['int64'])"
   ]
  },
  {
   "cell_type": "code",
   "execution_count": 9,
   "metadata": {},
   "outputs": [],
   "source": [
    "GrabNumeric = FunctionTransformer(grab_numeric)"
   ]
  },
  {
   "cell_type": "code",
   "execution_count": 10,
   "metadata": {},
   "outputs": [],
   "source": [
    "pipe= Pipeline(steps=[(\"num\", GrabNumeric),\n",
    "                      ( \"ss\", StandardScaler())])"
   ]
  },
  {
   "cell_type": "code",
   "execution_count": 11,
   "metadata": {},
   "outputs": [
    {
     "data": {
      "text/plain": [
       "Pipeline(steps=[('num',\n",
       "                 FunctionTransformer(func=<function grab_numeric at 0x000001D3918CE0D0>)),\n",
       "                ('ss', StandardScaler())])"
      ]
     },
     "execution_count": 11,
     "metadata": {},
     "output_type": "execute_result"
    }
   ],
   "source": [
    "pipe.fit(X_train)"
   ]
  },
  {
   "cell_type": "code",
   "execution_count": 12,
   "metadata": {},
   "outputs": [
    {
     "data": {
      "text/plain": [
       "array([[-0.84040878,  0.25062257],\n",
       "       [-0.96708423, -0.38007373],\n",
       "       [ 0.55590018,  0.29266899],\n",
       "       ...,\n",
       "       [-0.96708423, -0.38007373],\n",
       "       [ 0.77614273, -0.37797141],\n",
       "       [-0.96708423, -0.38007373]])"
      ]
     },
     "execution_count": 12,
     "metadata": {},
     "output_type": "execute_result"
    }
   ],
   "source": [
    "pipe.transform(X_train)"
   ]
  },
  {
   "cell_type": "code",
   "execution_count": 13,
   "metadata": {},
   "outputs": [
    {
     "name": "stdout",
     "output_type": "stream",
     "text": [
      "Index Number 0 funder\n",
      "Index Number 1 gps_height\n",
      "Index Number 2 installer\n",
      "Index Number 3 wpt_name\n",
      "Index Number 4 basin\n",
      "Index Number 5 region_code\n",
      "Index Number 6 district_code\n",
      "Index Number 7 population\n",
      "Index Number 8 public_meeting\n",
      "Index Number 9 permit\n",
      "Index Number 10 extraction_type_class\n",
      "Index Number 11 management\n",
      "Index Number 12 payment_type\n",
      "Index Number 13 quality_group\n",
      "Index Number 14 quantity\n",
      "Index Number 15 source\n",
      "Index Number 16 source_class\n",
      "Index Number 17 waterpoint_type\n",
      "Index Number 18 construction_year_bins\n"
     ]
    }
   ],
   "source": [
    "j = -1\n",
    "for i in X_train.columns:\n",
    "    j+=1\n",
    "    print(\"Index Number\", j,i)"
   ]
  },
  {
   "cell_type": "code",
   "execution_count": 14,
   "metadata": {},
   "outputs": [],
   "source": [
    "# We'll throw these mini-pipelines into our ColumnTransformer.\n",
    "\n",
    "subpipe_num = Pipeline(steps=[('num_impute', SimpleImputer(strategy=\"median\")),\n",
    "                           ('ss', StandardScaler())])\n",
    "subpipe_cat = Pipeline(steps=[('cat_impute', SimpleImputer(strategy='constant')),\n",
    "                             ('ohe', OneHotEncoder(sparse=False, handle_unknown='ignore'))])"
   ]
  },
  {
   "cell_type": "code",
   "execution_count": 15,
   "metadata": {},
   "outputs": [],
   "source": [
    "CT = ColumnTransformer(transformers=[('subpipe_num', subpipe_num, [1,7]),\n",
    "                                         ('subpipe_cat', subpipe_cat, [0,2,3,4,5,6,8,9,10,11,12,13,14,15,16,17,18])])"
   ]
  },
  {
   "cell_type": "code",
   "execution_count": 16,
   "metadata": {},
   "outputs": [],
   "source": [
    "from sklearn.experimental import enable_hist_gradient_boosting\n",
    "from sklearn.ensemble import HistGradientBoostingClassifier"
   ]
  },
  {
   "cell_type": "code",
   "execution_count": 17,
   "metadata": {},
   "outputs": [],
   "source": [
    "hgb_model_pipe = Pipeline([('ct', CT), ('hgb', HistGradientBoostingClassifier())])"
   ]
  },
  {
   "cell_type": "code",
   "execution_count": 18,
   "metadata": {},
   "outputs": [
    {
     "data": {
      "text/plain": [
       "Pipeline(steps=[('ct',\n",
       "                 ColumnTransformer(transformers=[('subpipe_num',\n",
       "                                                  Pipeline(steps=[('num_impute',\n",
       "                                                                   SimpleImputer(strategy='median')),\n",
       "                                                                  ('ss',\n",
       "                                                                   StandardScaler())]),\n",
       "                                                  [1, 7]),\n",
       "                                                 ('subpipe_cat',\n",
       "                                                  Pipeline(steps=[('cat_impute',\n",
       "                                                                   SimpleImputer(strategy='constant')),\n",
       "                                                                  ('ohe',\n",
       "                                                                   OneHotEncoder(handle_unknown='ignore',\n",
       "                                                                                 sparse=False))]),\n",
       "                                                  [0, 2, 3, 4, 5, 6, 8, 9, 10,\n",
       "                                                   11, 12, 13, 14, 15, 16, 17,\n",
       "                                                   18])])),\n",
       "                ('hgb', HistGradientBoostingClassifier())])"
      ]
     },
     "execution_count": 18,
     "metadata": {},
     "output_type": "execute_result"
    }
   ],
   "source": [
    "hgb_model_pipe.fit(X_train, y_train)"
   ]
  },
  {
   "cell_type": "code",
   "execution_count": 19,
   "metadata": {},
   "outputs": [
    {
     "data": {
      "text/plain": [
       "0.8054096520763188"
      ]
     },
     "execution_count": 19,
     "metadata": {},
     "output_type": "execute_result"
    }
   ],
   "source": [
    "hgb_model_pipe.score(X_train, y_train)"
   ]
  },
  {
   "cell_type": "code",
   "execution_count": 20,
   "metadata": {},
   "outputs": [
    {
     "data": {
      "text/plain": [
       "array(['functional', 'non functional', 'functional', ..., 'functional',\n",
       "       'non functional', 'functional'], dtype=object)"
      ]
     },
     "execution_count": 20,
     "metadata": {},
     "output_type": "execute_result"
    }
   ],
   "source": [
    "y_hat = hgb_model_pipe.predict(X_test)\n",
    "y_hat"
   ]
  },
  {
   "cell_type": "code",
   "execution_count": 60,
   "metadata": {},
   "outputs": [
    {
     "name": "stdout",
     "output_type": "stream",
     "text": [
      "\n",
      "Our first model's accuracy on the test set is 0.7818855218855219. \n",
      "\n",
      "Our first model's recall on the test set is 0.7818855218855219 \n",
      "\n",
      "Our first model's precision on the test set is 0.779308701544047 \n",
      "\n",
      "Our first model's f1-score on the test is 0.767408023787753.\n",
      "\n"
     ]
    }
   ],
   "source": [
    "print(f\"\"\"\n",
    "Our first model's accuracy on the test set is {accuracy_score(y_test, y_hat)}. \\n\n",
    "Our first model's recall on the test set is {recall_score(y_test, y_hat,average= 'weighted')} \\n\n",
    "Our first model's precision on the test set is {precision_score(y_test, y_hat,average= 'weighted')} \\n\n",
    "Our first model's f1-score on the test is {f1_score(y_test, y_hat,average= 'weighted')}.\n",
    "\"\"\")"
   ]
  },
  {
   "cell_type": "code",
   "execution_count": 22,
   "metadata": {},
   "outputs": [
    {
     "data": {
      "image/png": "[encoded data removed]",
      "text/plain": [
       "<Figure size 432x288 with 2 Axes>"
      ]
     },
     "metadata": {
      "needs_background": "light"
     },
     "output_type": "display_data"
    }
   ],
   "source": [
    "plot_confusion_matrix(hgb_model_pipe, X_test, y_test);"
   ]
  },
  {
   "cell_type": "code",
   "execution_count": 23,
   "metadata": {},
   "outputs": [],
   "source": [
    "param_grid = {'hgb__learning_rate': [0.1,0.00001],\n",
    "               'hgb__max_depth': [6,7,8],\n",
    "               'hgb__min_samples_leaf': [10,12,14,16],}"
   ]
  },
  {
   "cell_type": "code",
   "execution_count": 24,
   "metadata": {},
   "outputs": [],
   "source": [
    "hgb_grid2 = GridSearchCV(hgb_model_pipe, param_grid=param_grid, n_jobs=-1,cv=5,verbose=2)"
   ]
  },
  {
   "cell_type": "code",
   "execution_count": 25,
   "metadata": {},
   "outputs": [
    {
     "name": "stdout",
     "output_type": "stream",
     "text": [
      "Fitting 5 folds for each of 24 candidates, totalling 120 fits\n"
     ]
    },
    {
     "name": "stderr",
     "output_type": "stream",
     "text": [
      "[Parallel(n_jobs=-1)]: Using backend LokyBackend with 12 concurrent workers.\n",
      "[Parallel(n_jobs=-1)]: Done  17 tasks      | elapsed:   59.6s\n",
      "[Parallel(n_jobs=-1)]: Done 120 out of 120 | elapsed:  5.1min finished\n"
     ]
    },
    {
     "data": {
      "text/plain": [
       "GridSearchCV(cv=5,\n",
       "             estimator=Pipeline(steps=[('ct',\n",
       "                                        ColumnTransformer(transformers=[('subpipe_num',\n",
       "                                                                         Pipeline(steps=[('num_impute',\n",
       "                                                                                          SimpleImputer(strategy='median')),\n",
       "                                                                                         ('ss',\n",
       "                                                                                          StandardScaler())]),\n",
       "                                                                         [1,\n",
       "                                                                          7]),\n",
       "                                                                        ('subpipe_cat',\n",
       "                                                                         Pipeline(steps=[('cat_impute',\n",
       "                                                                                          SimpleImputer(strategy='constant')),\n",
       "                                                                                         ('ohe',\n",
       "                                                                                          OneHotEncoder(handle_unknown='ignore',\n",
       "                                                                                                        sparse=False))]),\n",
       "                                                                         [0, 2,\n",
       "                                                                          3, 4,\n",
       "                                                                          5, 6,\n",
       "                                                                          8, 9,\n",
       "                                                                          10,\n",
       "                                                                          11,\n",
       "                                                                          12,\n",
       "                                                                          13,\n",
       "                                                                          14,\n",
       "                                                                          15,\n",
       "                                                                          16,\n",
       "                                                                          17,\n",
       "                                                                          18])])),\n",
       "                                       ('hgb',\n",
       "                                        HistGradientBoostingClassifier())]),\n",
       "             n_jobs=-1,\n",
       "             param_grid={'hgb__learning_rate': [0.1, 1e-05],\n",
       "                         'hgb__max_depth': [6, 7, 8],\n",
       "                         'hgb__min_samples_leaf': [10, 12, 14, 16]},\n",
       "             verbose=2)"
      ]
     },
     "execution_count": 25,
     "metadata": {},
     "output_type": "execute_result"
    }
   ],
   "source": [
    "hgb_grid2.fit(X_train, y_train)"
   ]
  },
  {
   "cell_type": "code",
   "execution_count": 26,
   "metadata": {},
   "outputs": [
    {
     "name": "stdout",
     "output_type": "stream",
     "text": [
      "{'hgb__learning_rate': 0.1, 'hgb__max_depth': 7, 'hgb__min_samples_leaf': 16}\n",
      "0.7815937149270482\n"
     ]
    }
   ],
   "source": [
    "# Print the best parameters found\n",
    "print(hgb_grid2.best_params_)\n",
    "# Print the best scores found\n",
    "print(hgb_grid2.best_score_)"
   ]
  },
  {
   "cell_type": "code",
   "execution_count": 69,
   "metadata": {},
   "outputs": [],
   "source": [
    "hgb_model_pipe = Pipeline([('ct', CT), ('hgb', HistGradientBoostingClassifier(max_depth=7, min_samples_leaf=16))])"
   ]
  },
  {
   "cell_type": "code",
   "execution_count": 70,
   "metadata": {},
   "outputs": [
    {
     "data": {
      "text/plain": [
       "Pipeline(steps=[('ct',\n",
       "                 ColumnTransformer(transformers=[('subpipe_num',\n",
       "                                                  Pipeline(steps=[('num_impute',\n",
       "                                                                   SimpleImputer(strategy='median')),\n",
       "                                                                  ('ss',\n",
       "                                                                   StandardScaler())]),\n",
       "                                                  [1, 7]),\n",
       "                                                 ('subpipe_cat',\n",
       "                                                  Pipeline(steps=[('cat_impute',\n",
       "                                                                   SimpleImputer(strategy='constant')),\n",
       "                                                                  ('ohe',\n",
       "                                                                   OneHotEncoder(handle_unknown='ignore',\n",
       "                                                                                 sparse=False))]),\n",
       "                                                  [0, 2, 3, 4, 5, 6, 8, 9, 10,\n",
       "                                                   11, 12, 13, 14, 15, 16, 17,\n",
       "                                                   18])])),\n",
       "                ('hgb',\n",
       "                 HistGradientBoostingClassifier(max_depth=7,\n",
       "                                                min_samples_leaf=16))])"
      ]
     },
     "execution_count": 70,
     "metadata": {},
     "output_type": "execute_result"
    }
   ],
   "source": [
    "hgb_model_pipe.fit(X_train, y_train)"
   ]
  },
  {
   "cell_type": "code",
   "execution_count": 71,
   "metadata": {},
   "outputs": [],
   "source": [
    "y_hat1 = hgb_model_pipe.predict(X_test)"
   ]
  },
  {
   "cell_type": "code",
   "execution_count": 72,
   "metadata": {},
   "outputs": [
    {
     "name": "stdout",
     "output_type": "stream",
     "text": [
      "\n",
      "Our first model's accuracy on the test set is 0.7816161616161617. \n",
      "\n",
      "Our first model's recall on the test set is 0.7816161616161617 \n",
      "\n",
      "Our first model's precision on the test set is 0.7791902214379692 \n",
      "\n",
      "Our first model's f1-score on the test is 0.7672882918129222.\n",
      "\n"
     ]
    }
   ],
   "source": [
    "print(f\"\"\"\n",
    "Our first model's accuracy on the test set is {accuracy_score(y_test, y_hat1)}. \\n\n",
    "Our first model's recall on the test set is {recall_score(y_test, y_hat1,average= 'weighted')} \\n\n",
    "Our first model's precision on the test set is {precision_score(y_test, y_hat1,average= 'weighted')} \\n\n",
    "Our first model's f1-score on the test is {f1_score(y_test, y_hat1,average= 'weighted')}.\n",
    "\"\"\")"
   ]
  },
  {
   "cell_type": "code",
   "execution_count": 29,
   "metadata": {},
   "outputs": [],
   "source": [
    "param_grid = {'hgb__max_depth': [8,9,10,11,12,13,14,15],\n",
    "               'hgb__min_samples_leaf': [2,3,4,5,6,7,8,9,10],\n",
    "               \"hgb__max_iter\" : [5000,10000,15000,20000]}"
   ]
  },
  {
   "cell_type": "code",
   "execution_count": 30,
   "metadata": {},
   "outputs": [],
   "source": [
    "hgb_grid3 = GridSearchCV(hgb_model_pipe, param_grid=param_grid, n_jobs=-1,cv=5,verbose=3)"
   ]
  },
  {
   "cell_type": "code",
   "execution_count": 31,
   "metadata": {},
   "outputs": [
    {
     "name": "stdout",
     "output_type": "stream",
     "text": [
      "Fitting 5 folds for each of 288 candidates, totalling 1440 fits\n"
     ]
    },
    {
     "name": "stderr",
     "output_type": "stream",
     "text": [
      "[Parallel(n_jobs=-1)]: Using backend LokyBackend with 12 concurrent workers.\n",
      "[Parallel(n_jobs=-1)]: Done   8 tasks      | elapsed:   49.9s\n",
      "[Parallel(n_jobs=-1)]: Done 104 tasks      | elapsed:  8.2min\n",
      "[Parallel(n_jobs=-1)]: Done 264 tasks      | elapsed: 20.4min\n",
      "[Parallel(n_jobs=-1)]: Done 488 tasks      | elapsed: 37.4min\n",
      "[Parallel(n_jobs=-1)]: Done 776 tasks      | elapsed: 60.0min\n",
      "[Parallel(n_jobs=-1)]: Done 1128 tasks      | elapsed: 89.3min\n",
      "[Parallel(n_jobs=-1)]: Done 1440 out of 1440 | elapsed: 115.8min finished\n"
     ]
    },
    {
     "data": {
      "text/plain": [
       "GridSearchCV(cv=5,\n",
       "             estimator=Pipeline(steps=[('ct',\n",
       "                                        ColumnTransformer(transformers=[('subpipe_num',\n",
       "                                                                         Pipeline(steps=[('num_impute',\n",
       "                                                                                          SimpleImputer(strategy='median')),\n",
       "                                                                                         ('ss',\n",
       "                                                                                          StandardScaler())]),\n",
       "                                                                         [1,\n",
       "                                                                          7]),\n",
       "                                                                        ('subpipe_cat',\n",
       "                                                                         Pipeline(steps=[('cat_impute',\n",
       "                                                                                          SimpleImputer(strategy='constant')),\n",
       "                                                                                         ('ohe',\n",
       "                                                                                          OneHotEncoder(handle_unknown='ignore',\n",
       "                                                                                                        sparse=False))]),\n",
       "                                                                         [0, 2,\n",
       "                                                                          3, 4,\n",
       "                                                                          5, 6,\n",
       "                                                                          8, 9,\n",
       "                                                                          10,\n",
       "                                                                          11,\n",
       "                                                                          12,\n",
       "                                                                          13,\n",
       "                                                                          14,\n",
       "                                                                          15,\n",
       "                                                                          16,\n",
       "                                                                          17,\n",
       "                                                                          18])])),\n",
       "                                       ('hgb',\n",
       "                                        HistGradientBoostingClassifier())]),\n",
       "             n_jobs=-1,\n",
       "             param_grid={'hgb__max_depth': [8, 9, 10, 11, 12, 13, 14, 15],\n",
       "                         'hgb__max_iter': [5000, 10000, 15000, 20000],\n",
       "                         'hgb__min_samples_leaf': [2, 3, 4, 5, 6, 7, 8, 9, 10]},\n",
       "             verbose=3)"
      ]
     },
     "execution_count": 31,
     "metadata": {},
     "output_type": "execute_result"
    }
   ],
   "source": [
    "hgb_grid3.fit(X_train, y_train)"
   ]
  },
  {
   "cell_type": "code",
   "execution_count": 32,
   "metadata": {},
   "outputs": [
    {
     "name": "stdout",
     "output_type": "stream",
     "text": [
      "{'hgb__max_depth': 9, 'hgb__max_iter': 15000, 'hgb__min_samples_leaf': 6}\n",
      "0.7874074074074074\n"
     ]
    }
   ],
   "source": [
    "# Print the best parameters found\n",
    "print(hgb_grid3.best_params_)\n",
    "# Print the best scores found\n",
    "print(hgb_grid3.best_score_)"
   ]
  },
  {
   "cell_type": "code",
   "execution_count": 33,
   "metadata": {},
   "outputs": [],
   "source": [
    "y_hat3 = hgb_grid3.predict(X_test)"
   ]
  },
  {
   "cell_type": "code",
   "execution_count": 64,
   "metadata": {},
   "outputs": [
    {
     "name": "stdout",
     "output_type": "stream",
     "text": [
      "\n",
      "Our first model's accuracy on the test set is 0.7873400673400673. \n",
      "\n",
      "Our first model's recall on the test set is 0.7873400673400673 \n",
      "\n",
      "Our first model's precision on the test set is 0.7816090619787255 \n",
      "\n",
      "Our first model's f1-score on the test is 0.7756072306114541.\n",
      "\n"
     ]
    }
   ],
   "source": [
    "print(f\"\"\"\n",
    "Our first model's accuracy on the test set is {accuracy_score(y_test, y_hat3)}. \\n\n",
    "Our first model's recall on the test set is {recall_score(y_test, y_hat3,average= 'weighted')} \\n\n",
    "Our first model's precision on the test set is {precision_score(y_test, y_hat3,average= 'weighted')} \\n\n",
    "Our first model's f1-score on the test is {f1_score(y_test, y_hat3,average= 'weighted')}.\n",
    "\"\"\")"
   ]
  },
  {
   "cell_type": "code",
   "execution_count": 35,
   "metadata": {},
   "outputs": [],
   "source": [
    "param_grid = {'hgb__max_depth': [11,12,13,14,15],\n",
    "               'hgb__min_samples_leaf': [12],\n",
    "               \"hgb__max_iter\" : [300, 500,1000]}"
   ]
  },
  {
   "cell_type": "code",
   "execution_count": 36,
   "metadata": {},
   "outputs": [],
   "source": [
    "hgb_grid4 = GridSearchCV(hgb_model_pipe, param_grid=param_grid, n_jobs=-1,cv=5,verbose=3)"
   ]
  },
  {
   "cell_type": "code",
   "execution_count": 37,
   "metadata": {},
   "outputs": [
    {
     "name": "stdout",
     "output_type": "stream",
     "text": [
      "Fitting 5 folds for each of 15 candidates, totalling 75 fits\n"
     ]
    },
    {
     "name": "stderr",
     "output_type": "stream",
     "text": [
      "[Parallel(n_jobs=-1)]: Using backend LokyBackend with 12 concurrent workers.\n",
      "[Parallel(n_jobs=-1)]: Done   8 tasks      | elapsed:  1.1min\n",
      "[Parallel(n_jobs=-1)]: Done  75 out of  75 | elapsed:  6.6min finished\n"
     ]
    },
    {
     "data": {
      "text/plain": [
       "GridSearchCV(cv=5,\n",
       "             estimator=Pipeline(steps=[('ct',\n",
       "                                        ColumnTransformer(transformers=[('subpipe_num',\n",
       "                                                                         Pipeline(steps=[('num_impute',\n",
       "                                                                                          SimpleImputer(strategy='median')),\n",
       "                                                                                         ('ss',\n",
       "                                                                                          StandardScaler())]),\n",
       "                                                                         [1,\n",
       "                                                                          7]),\n",
       "                                                                        ('subpipe_cat',\n",
       "                                                                         Pipeline(steps=[('cat_impute',\n",
       "                                                                                          SimpleImputer(strategy='constant')),\n",
       "                                                                                         ('ohe',\n",
       "                                                                                          OneHotEncoder(handle_unknown='ignore',\n",
       "                                                                                                        sparse=False))]),\n",
       "                                                                         [0, 2,\n",
       "                                                                          3, 4,\n",
       "                                                                          5, 6,\n",
       "                                                                          8, 9,\n",
       "                                                                          10,\n",
       "                                                                          11,\n",
       "                                                                          12,\n",
       "                                                                          13,\n",
       "                                                                          14,\n",
       "                                                                          15,\n",
       "                                                                          16,\n",
       "                                                                          17,\n",
       "                                                                          18])])),\n",
       "                                       ('hgb',\n",
       "                                        HistGradientBoostingClassifier())]),\n",
       "             n_jobs=-1,\n",
       "             param_grid={'hgb__max_depth': [11, 12, 13, 14, 15],\n",
       "                         'hgb__max_iter': [300, 500, 1000],\n",
       "                         'hgb__min_samples_leaf': [12]},\n",
       "             verbose=3)"
      ]
     },
     "execution_count": 37,
     "metadata": {},
     "output_type": "execute_result"
    }
   ],
   "source": [
    "hgb_grid4.fit(X_train, y_train)"
   ]
  },
  {
   "cell_type": "code",
   "execution_count": 38,
   "metadata": {},
   "outputs": [
    {
     "name": "stdout",
     "output_type": "stream",
     "text": [
      "{'hgb__max_depth': 14, 'hgb__max_iter': 500, 'hgb__min_samples_leaf': 12}\n",
      "0.7871156004489337\n"
     ]
    }
   ],
   "source": [
    "# Print the best parameters found\n",
    "print(hgb_grid4.best_params_)\n",
    "# Print the best scores found\n",
    "print(hgb_grid4.best_score_)"
   ]
  },
  {
   "cell_type": "code",
   "execution_count": 76,
   "metadata": {},
   "outputs": [],
   "source": [
    "hgb_model_pipe = Pipeline([('ct', CT), ('hgb', HistGradientBoostingClassifier(max_depth=14, max_iter=500, min_samples_leaf=12))])"
   ]
  },
  {
   "cell_type": "code",
   "execution_count": 77,
   "metadata": {},
   "outputs": [
    {
     "data": {
      "text/plain": [
       "Pipeline(steps=[('ct',\n",
       "                 ColumnTransformer(transformers=[('subpipe_num',\n",
       "                                                  Pipeline(steps=[('num_impute',\n",
       "                                                                   SimpleImputer(strategy='median')),\n",
       "                                                                  ('ss',\n",
       "                                                                   StandardScaler())]),\n",
       "                                                  [1, 7]),\n",
       "                                                 ('subpipe_cat',\n",
       "                                                  Pipeline(steps=[('cat_impute',\n",
       "                                                                   SimpleImputer(strategy='constant')),\n",
       "                                                                  ('ohe',\n",
       "                                                                   OneHotEncoder(handle_unknown='ignore',\n",
       "                                                                                 sparse=False))]),\n",
       "                                                  [0, 2, 3, 4, 5, 6, 8, 9, 10,\n",
       "                                                   11, 12, 13, 14, 15, 16, 17,\n",
       "                                                   18])])),\n",
       "                ('hgb',\n",
       "                 HistGradientBoostingClassifier(max_depth=14, max_iter=500,\n",
       "                                                min_samples_leaf=12))])"
      ]
     },
     "execution_count": 77,
     "metadata": {},
     "output_type": "execute_result"
    }
   ],
   "source": [
    "hgb_model_pipe.fit(X_train, y_train)"
   ]
  },
  {
   "cell_type": "code",
   "execution_count": 78,
   "metadata": {},
   "outputs": [],
   "source": [
    "y_hat4 = hgb_model_pipe.predict(X_test)"
   ]
  },
  {
   "cell_type": "code",
   "execution_count": 79,
   "metadata": {},
   "outputs": [
    {
     "name": "stdout",
     "output_type": "stream",
     "text": [
      "\n",
      "Our second model's accuracy on the test set is 0.7890909090909091. \n",
      "\n",
      "Our second model's recall on the test set is 0.7890909090909091 \n",
      "\n",
      "Our second model's precision on the test set is 0.7841602240827521 \n",
      "\n",
      "Our second model's f1-score on the test is 0.7785903211053256.\n",
      "\n"
     ]
    }
   ],
   "source": [
    "print(f\"\"\"\n",
    "Our second model's accuracy on the test set is {accuracy_score(y_test, y_hat4)}. \\n\n",
    "Our second model's recall on the test set is {recall_score(y_test, y_hat4,average= 'weighted')} \\n\n",
    "Our second model's precision on the test set is {precision_score(y_test, y_hat4,average= 'weighted')} \\n\n",
    "Our second model's f1-score on the test is {f1_score(y_test, y_hat4,average= 'weighted')}.\n",
    "\"\"\")"
   ]
  },
  {
   "cell_type": "code",
   "execution_count": 41,
   "metadata": {},
   "outputs": [],
   "source": [
    "param_grid = {'hgb__max_depth': [14],\n",
    "               'hgb__min_samples_leaf': [12],\n",
    "               \"hgb__max_iter\" : [1000, 1200, 1400, 1600 ]}"
   ]
  },
  {
   "cell_type": "code",
   "execution_count": 42,
   "metadata": {},
   "outputs": [],
   "source": [
    "hgb_grid5 = GridSearchCV(hgb_model_pipe, param_grid=param_grid, n_jobs=-1,cv=5,verbose=3)"
   ]
  },
  {
   "cell_type": "code",
   "execution_count": 43,
   "metadata": {},
   "outputs": [
    {
     "name": "stdout",
     "output_type": "stream",
     "text": [
      "Fitting 5 folds for each of 4 candidates, totalling 20 fits\n"
     ]
    },
    {
     "name": "stderr",
     "output_type": "stream",
     "text": [
      "[Parallel(n_jobs=-1)]: Using backend LokyBackend with 12 concurrent workers.\n",
      "[Parallel(n_jobs=-1)]: Done   4 out of  20 | elapsed:   54.6s remaining:  3.6min\n",
      "[Parallel(n_jobs=-1)]: Done  11 out of  20 | elapsed:  1.3min remaining:  1.1min\n",
      "[Parallel(n_jobs=-1)]: Done  18 out of  20 | elapsed:  1.7min remaining:   11.1s\n",
      "[Parallel(n_jobs=-1)]: Done  20 out of  20 | elapsed:  1.8min finished\n"
     ]
    },
    {
     "data": {
      "text/plain": [
       "GridSearchCV(cv=5,\n",
       "             estimator=Pipeline(steps=[('ct',\n",
       "                                        ColumnTransformer(transformers=[('subpipe_num',\n",
       "                                                                         Pipeline(steps=[('num_impute',\n",
       "                                                                                          SimpleImputer(strategy='median')),\n",
       "                                                                                         ('ss',\n",
       "                                                                                          StandardScaler())]),\n",
       "                                                                         [1,\n",
       "                                                                          7]),\n",
       "                                                                        ('subpipe_cat',\n",
       "                                                                         Pipeline(steps=[('cat_impute',\n",
       "                                                                                          SimpleImputer(strategy='constant')),\n",
       "                                                                                         ('ohe',\n",
       "                                                                                          OneHotEncoder(handle_unknown='ignore',\n",
       "                                                                                                        sparse=False))]),\n",
       "                                                                         [0, 2,\n",
       "                                                                          3, 4,\n",
       "                                                                          5, 6,\n",
       "                                                                          8, 9,\n",
       "                                                                          10,\n",
       "                                                                          11,\n",
       "                                                                          12,\n",
       "                                                                          13,\n",
       "                                                                          14,\n",
       "                                                                          15,\n",
       "                                                                          16,\n",
       "                                                                          17,\n",
       "                                                                          18])])),\n",
       "                                       ('hgb',\n",
       "                                        HistGradientBoostingClassifier())]),\n",
       "             n_jobs=-1,\n",
       "             param_grid={'hgb__max_depth': [14],\n",
       "                         'hgb__max_iter': [1000, 1200, 1400, 1600],\n",
       "                         'hgb__min_samples_leaf': [12]},\n",
       "             verbose=3)"
      ]
     },
     "execution_count": 43,
     "metadata": {},
     "output_type": "execute_result"
    }
   ],
   "source": [
    "hgb_grid5.fit(X_train, y_train)"
   ]
  },
  {
   "cell_type": "code",
   "execution_count": 44,
   "metadata": {},
   "outputs": [
    {
     "name": "stdout",
     "output_type": "stream",
     "text": [
      "{'hgb__max_depth': 14, 'hgb__max_iter': 1400, 'hgb__min_samples_leaf': 12}\n",
      "0.7862626262626262\n"
     ]
    }
   ],
   "source": [
    "# Print the best parameters found\n",
    "print(hgb_grid5.best_params_)\n",
    "# Print the best scores found\n",
    "print(hgb_grid5.best_score_)"
   ]
  },
  {
   "cell_type": "code",
   "execution_count": 45,
   "metadata": {},
   "outputs": [],
   "source": [
    "y_hat5 = hgb_grid5.predict(X_test)"
   ]
  },
  {
   "cell_type": "code",
   "execution_count": 67,
   "metadata": {},
   "outputs": [
    {
     "name": "stdout",
     "output_type": "stream",
     "text": [
      "\n",
      "Our first model's accuracy on the test set is 0.787946127946128. \n",
      "\n",
      "Our first model's recall on the test set is 0.787946127946128 \n",
      "\n",
      "Our first model's precision on the test set is 0.7838586983536773 \n",
      "\n",
      "Our first model's f1-score on the test is 0.7762538529844859.\n",
      "\n"
     ]
    }
   ],
   "source": [
    "print(f\"\"\"\n",
    "Our first model's accuracy on the test set is {accuracy_score(y_test, y_hat5)}. \\n\n",
    "Our first model's recall on the test set is {recall_score(y_test, y_hat5,average= 'weighted')} \\n\n",
    "Our first model's precision on the test set is {precision_score(y_test, y_hat5,average= 'weighted')} \\n\n",
    "Our first model's f1-score on the test is {f1_score(y_test, y_hat5,average= 'weighted')}.\n",
    "\"\"\")"
   ]
  },
  {
   "cell_type": "code",
   "execution_count": 47,
   "metadata": {},
   "outputs": [],
   "source": [
    "param_grid = {'hgb__max_depth': [14],\n",
    "               'hgb__min_samples_leaf': [12],\n",
    "               \"hgb__max_iter\" : [1600, 2000, 4000, 6000, 8000, 10000, 20000 ]\n",
    "               }"
   ]
  },
  {
   "cell_type": "code",
   "execution_count": 48,
   "metadata": {},
   "outputs": [],
   "source": [
    "hgb_grid6 = GridSearchCV(hgb_model_pipe, param_grid=param_grid, n_jobs=-1,cv=5,verbose=3)"
   ]
  },
  {
   "cell_type": "code",
   "execution_count": 49,
   "metadata": {},
   "outputs": [
    {
     "name": "stdout",
     "output_type": "stream",
     "text": [
      "Fitting 5 folds for each of 7 candidates, totalling 35 fits\n"
     ]
    },
    {
     "name": "stderr",
     "output_type": "stream",
     "text": [
      "[Parallel(n_jobs=-1)]: Using backend LokyBackend with 12 concurrent workers.\n",
      "[Parallel(n_jobs=-1)]: Done   8 tasks      | elapsed:  1.1min\n",
      "[Parallel(n_jobs=-1)]: Done  24 out of  35 | elapsed:  2.6min remaining:  1.2min\n",
      "[Parallel(n_jobs=-1)]: Done  35 out of  35 | elapsed:  3.2min finished\n"
     ]
    },
    {
     "data": {
      "text/plain": [
       "GridSearchCV(cv=5,\n",
       "             estimator=Pipeline(steps=[('ct',\n",
       "                                        ColumnTransformer(transformers=[('subpipe_num',\n",
       "                                                                         Pipeline(steps=[('num_impute',\n",
       "                                                                                          SimpleImputer(strategy='median')),\n",
       "                                                                                         ('ss',\n",
       "                                                                                          StandardScaler())]),\n",
       "                                                                         [1,\n",
       "                                                                          7]),\n",
       "                                                                        ('subpipe_cat',\n",
       "                                                                         Pipeline(steps=[('cat_impute',\n",
       "                                                                                          SimpleImputer(strategy='constant')),\n",
       "                                                                                         ('ohe',\n",
       "                                                                                          OneHotEncoder(handle_unknown='ignore',\n",
       "                                                                                                        sparse=False))]),\n",
       "                                                                         [0, 2,\n",
       "                                                                          3, 4,\n",
       "                                                                          5, 6,\n",
       "                                                                          8, 9,\n",
       "                                                                          10,\n",
       "                                                                          11,\n",
       "                                                                          12,\n",
       "                                                                          13,\n",
       "                                                                          14,\n",
       "                                                                          15,\n",
       "                                                                          16,\n",
       "                                                                          17,\n",
       "                                                                          18])])),\n",
       "                                       ('hgb',\n",
       "                                        HistGradientBoostingClassifier())]),\n",
       "             n_jobs=-1,\n",
       "             param_grid={'hgb__max_depth': [14],\n",
       "                         'hgb__max_iter': [1600, 2000, 4000, 6000, 8000, 10000,\n",
       "                                           20000],\n",
       "                         'hgb__min_samples_leaf': [12]},\n",
       "             verbose=3)"
      ]
     },
     "execution_count": 49,
     "metadata": {},
     "output_type": "execute_result"
    }
   ],
   "source": [
    "hgb_grid6.fit(X_train, y_train)"
   ]
  },
  {
   "cell_type": "code",
   "execution_count": 50,
   "metadata": {},
   "outputs": [
    {
     "name": "stdout",
     "output_type": "stream",
     "text": [
      "{'hgb__max_depth': 14, 'hgb__max_iter': 6000, 'hgb__min_samples_leaf': 12}\n",
      "0.7868686868686869\n"
     ]
    }
   ],
   "source": [
    "# Print the best parameters found\n",
    "print(hgb_grid6.best_params_)\n",
    "# Print the best scores found\n",
    "print(hgb_grid6.best_score_)"
   ]
  },
  {
   "cell_type": "code",
   "execution_count": 51,
   "metadata": {},
   "outputs": [],
   "source": [
    "y_hat5 = hgb_grid5.predict(X_test)"
   ]
  },
  {
   "cell_type": "code",
   "execution_count": 68,
   "metadata": {},
   "outputs": [
    {
     "name": "stdout",
     "output_type": "stream",
     "text": [
      "\n",
      "Our first model's accuracy on the test set is 0.787946127946128. \n",
      "\n",
      "Our first model's recall on the test set is 0.787946127946128 \n",
      "\n",
      "Our first model's precision on the test set is 0.7838586983536773 \n",
      "\n",
      "Our first model's f1-score on the test is 0.7762538529844859.\n",
      "\n"
     ]
    }
   ],
   "source": [
    "print(f\"\"\"\n",
    "Our first model's accuracy on the test set is {accuracy_score(y_test, y_hat5)}. \\n\n",
    "Our first model's recall on the test set is {recall_score(y_test, y_hat5,average= 'weighted')} \\n\n",
    "Our first model's precision on the test set is {precision_score(y_test, y_hat5,average= 'weighted')} \\n\n",
    "Our first model's f1-score on the test is {f1_score(y_test, y_hat5,average= 'weighted')}.\n",
    "\"\"\")"
   ]
  },
  {
   "cell_type": "code",
   "execution_count": null,
   "metadata": {},
   "outputs": [],
   "source": []
  }
 ],
 "metadata": {
  "interpreter": {
   "hash": "4ad65dd45c2d07e74b12869848a281d31b75ca788164d45805ca064cbe1f6cb6"
  },
  "kernelspec": {
   "display_name": "Python 3.8.12 64-bit ('learn-env': conda)",
   "language": "python",
   "name": "python3"
  },
  "language_info": {
   "codemirror_mode": {
    "name": "ipython",
    "version": 3
   },
   "file_extension": ".py",
   "mimetype": "text/x-python",
   "name": "python",
   "nbconvert_exporter": "python",
   "pygments_lexer": "ipython3",
   "version": "3.8.12"
  },
  "orig_nbformat": 4
 },
 "nbformat": 4,
 "nbformat_minor": 2
}
