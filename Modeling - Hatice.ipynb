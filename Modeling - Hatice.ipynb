{
 "cells": [
  {
   "cell_type": "code",
   "execution_count": 1,
   "id": "64ad09b9",
   "metadata": {},
   "outputs": [],
   "source": [
    "import pandas as pd\n",
    "import matplotlib.pyplot as plt\n",
    "from sklearn.preprocessing import StandardScaler\n",
    "from sklearn.linear_model import LogisticRegression\n",
    "from sklearn.neighbors import KNeighborsClassifier\n",
    "from sklearn.tree import DecisionTreeClassifier\n",
    "from sklearn.impute import SimpleImputer\n",
    "from sklearn.pipeline import Pipeline\n",
    "from sklearn.compose import ColumnTransformer\n",
    "from sklearn.preprocessing import OneHotEncoder , FunctionTransformer\n",
    "from sklearn.dummy import DummyRegressor\n",
    "from sklearn.ensemble import RandomForestClassifier, GradientBoostingClassifier\n",
    "from sklearn.compose import ColumnTransformer\n",
    "from sklearn.model_selection import train_test_split\n",
    "from sklearn.model_selection import GridSearchCV\n",
    "from sklearn.metrics import plot_confusion_matrix, recall_score, accuracy_score, precision_score, f1_score, roc_auc_score"
   ]
  },
  {
   "cell_type": "code",
   "execution_count": 2,
   "id": "d00ee420",
   "metadata": {},
   "outputs": [
    {
     "data": {
      "text/html": [
       "<div>\n",
       "<style scoped>\n",
       "    .dataframe tbody tr th:only-of-type {\n",
       "        vertical-align: middle;\n",
       "    }\n",
       "\n",
       "    .dataframe tbody tr th {\n",
       "        vertical-align: top;\n",
       "    }\n",
       "\n",
       "    .dataframe thead th {\n",
       "        text-align: right;\n",
       "    }\n",
       "</style>\n",
       "<table border=\"1\" class=\"dataframe\">\n",
       "  <thead>\n",
       "    <tr style=\"text-align: right;\">\n",
       "      <th></th>\n",
       "      <th>funder</th>\n",
       "      <th>gps_height</th>\n",
       "      <th>installer</th>\n",
       "      <th>wpt_name</th>\n",
       "      <th>basin</th>\n",
       "      <th>region_code</th>\n",
       "      <th>district_code</th>\n",
       "      <th>population</th>\n",
       "      <th>public_meeting</th>\n",
       "      <th>permit</th>\n",
       "      <th>extraction_type_class</th>\n",
       "      <th>management</th>\n",
       "      <th>payment_type</th>\n",
       "      <th>quality_group</th>\n",
       "      <th>quantity</th>\n",
       "      <th>source</th>\n",
       "      <th>source_class</th>\n",
       "      <th>waterpoint_type</th>\n",
       "      <th>status_group</th>\n",
       "      <th>construction_year_bins</th>\n",
       "    </tr>\n",
       "  </thead>\n",
       "  <tbody>\n",
       "    <tr>\n",
       "      <th>0</th>\n",
       "      <td>other</td>\n",
       "      <td>1390</td>\n",
       "      <td>other</td>\n",
       "      <td>none</td>\n",
       "      <td>Lake Nyasa</td>\n",
       "      <td>11</td>\n",
       "      <td>5</td>\n",
       "      <td>109</td>\n",
       "      <td>1.0</td>\n",
       "      <td>0.0</td>\n",
       "      <td>gravity</td>\n",
       "      <td>vwc</td>\n",
       "      <td>annually</td>\n",
       "      <td>good</td>\n",
       "      <td>enough</td>\n",
       "      <td>spring</td>\n",
       "      <td>groundwater</td>\n",
       "      <td>communal standpipe</td>\n",
       "      <td>functional</td>\n",
       "      <td>(1990.0, 2000.0]</td>\n",
       "    </tr>\n",
       "    <tr>\n",
       "      <th>1</th>\n",
       "      <td>other</td>\n",
       "      <td>1399</td>\n",
       "      <td>other</td>\n",
       "      <td>Zahanati</td>\n",
       "      <td>Lake Victoria</td>\n",
       "      <td>20</td>\n",
       "      <td>2</td>\n",
       "      <td>280</td>\n",
       "      <td>NaN</td>\n",
       "      <td>1.0</td>\n",
       "      <td>gravity</td>\n",
       "      <td>wug</td>\n",
       "      <td>never pay</td>\n",
       "      <td>good</td>\n",
       "      <td>insufficient</td>\n",
       "      <td>rainwater harvesting</td>\n",
       "      <td>surface</td>\n",
       "      <td>communal standpipe</td>\n",
       "      <td>functional</td>\n",
       "      <td>(2000.0, 2010.0]</td>\n",
       "    </tr>\n",
       "    <tr>\n",
       "      <th>2</th>\n",
       "      <td>other</td>\n",
       "      <td>686</td>\n",
       "      <td>other</td>\n",
       "      <td>other</td>\n",
       "      <td>Pangani</td>\n",
       "      <td>21</td>\n",
       "      <td>4</td>\n",
       "      <td>250</td>\n",
       "      <td>1.0</td>\n",
       "      <td>1.0</td>\n",
       "      <td>gravity</td>\n",
       "      <td>vwc</td>\n",
       "      <td>per bucket</td>\n",
       "      <td>good</td>\n",
       "      <td>enough</td>\n",
       "      <td>dam</td>\n",
       "      <td>surface</td>\n",
       "      <td>communal standpipe multiple</td>\n",
       "      <td>functional</td>\n",
       "      <td>(2000.0, 2010.0]</td>\n",
       "    </tr>\n",
       "    <tr>\n",
       "      <th>3</th>\n",
       "      <td>other</td>\n",
       "      <td>263</td>\n",
       "      <td>other</td>\n",
       "      <td>other</td>\n",
       "      <td>Ruvuma / Southern Coast</td>\n",
       "      <td>90</td>\n",
       "      <td>63</td>\n",
       "      <td>58</td>\n",
       "      <td>1.0</td>\n",
       "      <td>1.0</td>\n",
       "      <td>submersible</td>\n",
       "      <td>vwc</td>\n",
       "      <td>never pay</td>\n",
       "      <td>good</td>\n",
       "      <td>dry</td>\n",
       "      <td>machine dbh</td>\n",
       "      <td>groundwater</td>\n",
       "      <td>communal standpipe multiple</td>\n",
       "      <td>non functional</td>\n",
       "      <td>(1980.0, 1990.0]</td>\n",
       "    </tr>\n",
       "    <tr>\n",
       "      <th>4</th>\n",
       "      <td>other</td>\n",
       "      <td>0</td>\n",
       "      <td>other</td>\n",
       "      <td>Shuleni</td>\n",
       "      <td>Lake Victoria</td>\n",
       "      <td>18</td>\n",
       "      <td>1</td>\n",
       "      <td>0</td>\n",
       "      <td>1.0</td>\n",
       "      <td>1.0</td>\n",
       "      <td>gravity</td>\n",
       "      <td>other</td>\n",
       "      <td>never pay</td>\n",
       "      <td>good</td>\n",
       "      <td>seasonal</td>\n",
       "      <td>rainwater harvesting</td>\n",
       "      <td>surface</td>\n",
       "      <td>communal standpipe</td>\n",
       "      <td>functional</td>\n",
       "      <td>(1980.0, 1990.0]</td>\n",
       "    </tr>\n",
       "  </tbody>\n",
       "</table>\n",
       "</div>"
      ],
      "text/plain": [
       "  funder  gps_height installer  wpt_name                    basin  \\\n",
       "0  other        1390     other      none               Lake Nyasa   \n",
       "1  other        1399     other  Zahanati            Lake Victoria   \n",
       "2  other         686     other     other                  Pangani   \n",
       "3  other         263     other     other  Ruvuma / Southern Coast   \n",
       "4  other           0     other   Shuleni            Lake Victoria   \n",
       "\n",
       "   region_code  district_code  population  public_meeting  permit  \\\n",
       "0           11              5         109             1.0     0.0   \n",
       "1           20              2         280             NaN     1.0   \n",
       "2           21              4         250             1.0     1.0   \n",
       "3           90             63          58             1.0     1.0   \n",
       "4           18              1           0             1.0     1.0   \n",
       "\n",
       "  extraction_type_class management payment_type quality_group      quantity  \\\n",
       "0               gravity        vwc     annually          good        enough   \n",
       "1               gravity        wug    never pay          good  insufficient   \n",
       "2               gravity        vwc   per bucket          good        enough   \n",
       "3           submersible        vwc    never pay          good           dry   \n",
       "4               gravity      other    never pay          good      seasonal   \n",
       "\n",
       "                 source source_class              waterpoint_type  \\\n",
       "0                spring  groundwater           communal standpipe   \n",
       "1  rainwater harvesting      surface           communal standpipe   \n",
       "2                   dam      surface  communal standpipe multiple   \n",
       "3           machine dbh  groundwater  communal standpipe multiple   \n",
       "4  rainwater harvesting      surface           communal standpipe   \n",
       "\n",
       "     status_group construction_year_bins  \n",
       "0      functional       (1990.0, 2000.0]  \n",
       "1      functional       (2000.0, 2010.0]  \n",
       "2      functional       (2000.0, 2010.0]  \n",
       "3  non functional       (1980.0, 1990.0]  \n",
       "4      functional       (1980.0, 1990.0]  "
      ]
     },
     "execution_count": 2,
     "metadata": {},
     "output_type": "execute_result"
    }
   ],
   "source": [
    "df = pd.read_csv(\"data/data_clean.csv\")\n",
    "df = df.drop(\"Unnamed: 0\",axis=1)\n",
    "df.head()"
   ]
  },
  {
   "cell_type": "code",
   "execution_count": 3,
   "id": "4b876675",
   "metadata": {},
   "outputs": [
    {
     "name": "stdout",
     "output_type": "stream",
     "text": [
      "<class 'pandas.core.frame.DataFrame'>\n",
      "RangeIndex: 59400 entries, 0 to 59399\n",
      "Data columns (total 20 columns):\n",
      " #   Column                  Non-Null Count  Dtype  \n",
      "---  ------                  --------------  -----  \n",
      " 0   funder                  59400 non-null  object \n",
      " 1   gps_height              59400 non-null  int64  \n",
      " 2   installer               59400 non-null  object \n",
      " 3   wpt_name                59400 non-null  object \n",
      " 4   basin                   59400 non-null  object \n",
      " 5   region_code             59400 non-null  int64  \n",
      " 6   district_code           59400 non-null  int64  \n",
      " 7   population              59400 non-null  int64  \n",
      " 8   public_meeting          56066 non-null  float64\n",
      " 9   permit                  56344 non-null  float64\n",
      " 10  extraction_type_class   59400 non-null  object \n",
      " 11  management              59400 non-null  object \n",
      " 12  payment_type            59400 non-null  object \n",
      " 13  quality_group           59400 non-null  object \n",
      " 14  quantity                59400 non-null  object \n",
      " 15  source                  59400 non-null  object \n",
      " 16  source_class            59400 non-null  object \n",
      " 17  waterpoint_type         59400 non-null  object \n",
      " 18  status_group            59400 non-null  object \n",
      " 19  construction_year_bins  59298 non-null  object \n",
      "dtypes: float64(2), int64(4), object(14)\n",
      "memory usage: 9.1+ MB\n"
     ]
    }
   ],
   "source": [
    "df.info()"
   ]
  },
  {
   "cell_type": "code",
   "execution_count": 4,
   "id": "e7729570",
   "metadata": {},
   "outputs": [],
   "source": [
    "def int_to_object(df):\n",
    "    df[\"region_code\"] = df[\"region_code\"].astype(object)\n",
    "    df[\"district_code\"] = df[\"district_code\"].astype(object)\n",
    "    df[\"public_meeting\"] = df[\"public_meeting\"].astype(str)\n",
    "    df[\"permit\"] = df[\"permit\"].astype(str)\n",
    "    df[\"construction_year_bins\"] = df[\"construction_year_bins\"].astype(str)\n",
    "    return df.dtypes"
   ]
  },
  {
   "cell_type": "code",
   "execution_count": 5,
   "id": "1652bb4a",
   "metadata": {},
   "outputs": [
    {
     "data": {
      "text/plain": [
       "funder                    object\n",
       "gps_height                 int64\n",
       "installer                 object\n",
       "wpt_name                  object\n",
       "basin                     object\n",
       "region_code               object\n",
       "district_code             object\n",
       "population                 int64\n",
       "public_meeting            object\n",
       "permit                    object\n",
       "extraction_type_class     object\n",
       "management                object\n",
       "payment_type              object\n",
       "quality_group             object\n",
       "quantity                  object\n",
       "source                    object\n",
       "source_class              object\n",
       "waterpoint_type           object\n",
       "status_group              object\n",
       "construction_year_bins    object\n",
       "dtype: object"
      ]
     },
     "execution_count": 5,
     "metadata": {},
     "output_type": "execute_result"
    }
   ],
   "source": [
    "int_to_object(df)"
   ]
  },
  {
   "cell_type": "code",
   "execution_count": 6,
   "id": "ef53599a",
   "metadata": {},
   "outputs": [],
   "source": [
    "X = df.drop('status_group', axis=1)\n",
    "y = df['status_group']"
   ]
  },
  {
   "cell_type": "code",
   "execution_count": 7,
   "id": "9bd5580f",
   "metadata": {},
   "outputs": [],
   "source": [
    "X_train, X_test, y_train, y_test = train_test_split(X, y, random_state = 42)"
   ]
  },
  {
   "cell_type": "code",
   "execution_count": 8,
   "id": "b253894a",
   "metadata": {},
   "outputs": [],
   "source": [
    "map_dict = {\"functional\": 1, \"non functional\": 2, \"functional needs repair\": 3}\n",
    "y_train = y_train.map(map_dict)\n",
    "y_test = y_test.map(map_dict)"
   ]
  },
  {
   "cell_type": "code",
   "execution_count": 9,
   "id": "09ba1ffb",
   "metadata": {},
   "outputs": [
    {
     "data": {
      "text/plain": [
       "1    24161\n",
       "2    17146\n",
       "3     3243\n",
       "Name: status_group, dtype: int64"
      ]
     },
     "execution_count": 9,
     "metadata": {},
     "output_type": "execute_result"
    }
   ],
   "source": [
    "y_train.value_counts()"
   ]
  },
  {
   "cell_type": "code",
   "execution_count": 10,
   "id": "effb60ea",
   "metadata": {},
   "outputs": [],
   "source": [
    "def grab_numeric(df):\n",
    "    return df.select_dtypes(include=['int64'])"
   ]
  },
  {
   "cell_type": "code",
   "execution_count": 11,
   "id": "77f1346f",
   "metadata": {},
   "outputs": [],
   "source": [
    "GrabNumeric = FunctionTransformer(grab_numeric)"
   ]
  },
  {
   "cell_type": "code",
   "execution_count": 12,
   "id": "96eb8085",
   "metadata": {},
   "outputs": [],
   "source": [
    "pipe= Pipeline(steps=[(\"num\", GrabNumeric),\n",
    "                      ( \"ss\", StandardScaler())])"
   ]
  },
  {
   "cell_type": "code",
   "execution_count": 13,
   "id": "af5706f4",
   "metadata": {},
   "outputs": [
    {
     "data": {
      "text/plain": [
       "Pipeline(steps=[('num',\n",
       "                 FunctionTransformer(func=<function grab_numeric at 0x1331ad550>)),\n",
       "                ('ss', StandardScaler())])"
      ]
     },
     "execution_count": 13,
     "metadata": {},
     "output_type": "execute_result"
    }
   ],
   "source": [
    "pipe.fit(X_train)"
   ]
  },
  {
   "cell_type": "code",
   "execution_count": 14,
   "id": "4836b7ab",
   "metadata": {},
   "outputs": [
    {
     "data": {
      "text/plain": [
       "array([[-0.48786917, -0.20973197],\n",
       "       [-0.96404191, -0.37956688],\n",
       "       [-0.96404191, -0.37956688],\n",
       "       ...,\n",
       "       [-0.98280023,  1.74336955],\n",
       "       [-0.96404191, -0.37956688],\n",
       "       [ 0.89736062, -0.37744395]])"
      ]
     },
     "execution_count": 14,
     "metadata": {},
     "output_type": "execute_result"
    }
   ],
   "source": [
    "pipe.transform(X_train)"
   ]
  },
  {
   "cell_type": "code",
   "execution_count": 15,
   "id": "8416cce2",
   "metadata": {},
   "outputs": [
    {
     "name": "stdout",
     "output_type": "stream",
     "text": [
      "Index Number 0 funder\n",
      "Index Number 1 gps_height\n",
      "Index Number 2 installer\n",
      "Index Number 3 wpt_name\n",
      "Index Number 4 basin\n",
      "Index Number 5 region_code\n",
      "Index Number 6 district_code\n",
      "Index Number 7 population\n",
      "Index Number 8 public_meeting\n",
      "Index Number 9 permit\n",
      "Index Number 10 extraction_type_class\n",
      "Index Number 11 management\n",
      "Index Number 12 payment_type\n",
      "Index Number 13 quality_group\n",
      "Index Number 14 quantity\n",
      "Index Number 15 source\n",
      "Index Number 16 source_class\n",
      "Index Number 17 waterpoint_type\n",
      "Index Number 18 construction_year_bins\n"
     ]
    }
   ],
   "source": [
    "j = -1\n",
    "for i in X_train.columns:\n",
    "    j+=1\n",
    "    print(\"Index Number\", j,i)"
   ]
  },
  {
   "cell_type": "code",
   "execution_count": 16,
   "id": "d8ecd4ae",
   "metadata": {},
   "outputs": [],
   "source": [
    "# We'll throw these mini-pipelines into our ColumnTransformer.\n",
    "\n",
    "subpipe_num = Pipeline(steps=[('num_impute', SimpleImputer(strategy=\"median\")),\n",
    "                           ('ss', StandardScaler())])\n",
    "subpipe_cat = Pipeline(steps=[('cat_impute', SimpleImputer(strategy='constant')),\n",
    "                             ('ohe', OneHotEncoder(sparse=False, handle_unknown='ignore'))])\n"
   ]
  },
  {
   "cell_type": "code",
   "execution_count": 17,
   "id": "dea61142",
   "metadata": {},
   "outputs": [],
   "source": [
    "CT = ColumnTransformer(transformers=[('subpipe_num', subpipe_num, [1,7]),\n",
    "                                         ('subpipe_cat', subpipe_cat, [0,2,3,4,5,6,8,9,10,11,12,13,14,15,16,17,18])])"
   ]
  },
  {
   "cell_type": "code",
   "execution_count": 18,
   "id": "d5ed0e53",
   "metadata": {},
   "outputs": [
    {
     "data": {
      "text/plain": [
       "Pipeline(steps=[('ct',\n",
       "                 ColumnTransformer(transformers=[('subpipe_num',\n",
       "                                                  Pipeline(steps=[('num_impute',\n",
       "                                                                   SimpleImputer(strategy='median')),\n",
       "                                                                  ('ss',\n",
       "                                                                   StandardScaler())]),\n",
       "                                                  [1, 7]),\n",
       "                                                 ('subpipe_cat',\n",
       "                                                  Pipeline(steps=[('cat_impute',\n",
       "                                                                   SimpleImputer(strategy='constant')),\n",
       "                                                                  ('ohe',\n",
       "                                                                   OneHotEncoder(handle_unknown='ignore',\n",
       "                                                                                 sparse=False))]),\n",
       "                                                  [0, 2, 3, 4, 5, 6, 8, 9, 10,\n",
       "                                                   11, 12, 13, 14, 15, 16, 17,\n",
       "                                                   18])])),\n",
       "                ('dt', DecisionTreeClassifier(random_state=0))])"
      ]
     },
     "execution_count": 18,
     "metadata": {},
     "output_type": "execute_result"
    }
   ],
   "source": [
    "dt_model_pipe = Pipeline(steps=([(\"ct\", CT), \n",
    "                                    (\"dt\", DecisionTreeClassifier(random_state = 0))]))\n",
    "dt_model_pipe.fit(X_train, y_train)"
   ]
  },
  {
   "cell_type": "code",
   "execution_count": 19,
   "id": "be804be1",
   "metadata": {
    "scrolled": true
   },
   "outputs": [
    {
     "data": {
      "text/plain": [
       "GridSearchCV(cv=5,\n",
       "             estimator=Pipeline(steps=[('ct',\n",
       "                                        ColumnTransformer(transformers=[('subpipe_num',\n",
       "                                                                         Pipeline(steps=[('num_impute',\n",
       "                                                                                          SimpleImputer(strategy='median')),\n",
       "                                                                                         ('ss',\n",
       "                                                                                          StandardScaler())]),\n",
       "                                                                         [1,\n",
       "                                                                          7]),\n",
       "                                                                        ('subpipe_cat',\n",
       "                                                                         Pipeline(steps=[('cat_impute',\n",
       "                                                                                          SimpleImputer(strategy='constant')),\n",
       "                                                                                         ('ohe',\n",
       "                                                                                          OneHotEncoder(handle_unknown='ignore',\n",
       "                                                                                                        sparse=False))]),\n",
       "                                                                         [0, 2,\n",
       "                                                                          3, 4,\n",
       "                                                                          5, 6,\n",
       "                                                                          8, 9,\n",
       "                                                                          10,\n",
       "                                                                          11,\n",
       "                                                                          12,\n",
       "                                                                          13,\n",
       "                                                                          14,\n",
       "                                                                          15,\n",
       "                                                                          16,\n",
       "                                                                          17,\n",
       "                                                                          18])])),\n",
       "                                       ('dt',\n",
       "                                        DecisionTreeClassifier(random_state=0))]),\n",
       "             param_grid=[{'dt__max_depth': [2, 4, 6],\n",
       "                          'dt__min_samples_leaf': [20, 25]}],\n",
       "             scoring='accuracy')"
      ]
     },
     "execution_count": 19,
     "metadata": {},
     "output_type": "execute_result"
    }
   ],
   "source": [
    "dt_grid = [{'dt__max_depth': [2, 4, 6], \n",
    "         'dt__min_samples_leaf': [20, 25]}]\n",
    "\n",
    "\n",
    "gridsearch = GridSearchCV(estimator=dt_model_pipe, \n",
    "                          param_grid=dt_grid, \n",
    "                          scoring='accuracy', \n",
    "                          cv=5)\n",
    "\n",
    "gridsearch.fit(X_train, y_train)"
   ]
  },
  {
   "cell_type": "code",
   "execution_count": 20,
   "id": "3dcb4546",
   "metadata": {},
   "outputs": [
    {
     "data": {
      "text/plain": [
       "0.7214141414141414"
      ]
     },
     "execution_count": 20,
     "metadata": {},
     "output_type": "execute_result"
    }
   ],
   "source": [
    "gridsearch.score(X_test, y_test)"
   ]
  },
  {
   "cell_type": "code",
   "execution_count": 21,
   "id": "5af8fa87",
   "metadata": {},
   "outputs": [
    {
     "data": {
      "text/plain": [
       "{'dt__max_depth': 6, 'dt__min_samples_leaf': 20}"
      ]
     },
     "execution_count": 21,
     "metadata": {},
     "output_type": "execute_result"
    }
   ],
   "source": [
    "gridsearch.best_params_"
   ]
  },
  {
   "cell_type": "code",
   "execution_count": 22,
   "id": "fa31500e",
   "metadata": {},
   "outputs": [
    {
     "data": {
      "text/plain": [
       "array([0.6935578 , 0.6935578 , 0.70190797, 0.70190797, 0.71946128,\n",
       "       0.71928171])"
      ]
     },
     "execution_count": 22,
     "metadata": {},
     "output_type": "execute_result"
    }
   ],
   "source": [
    "gridsearch.cv_results_['mean_test_score']"
   ]
  },
  {
   "cell_type": "code",
   "execution_count": 23,
   "id": "c0ca4f73",
   "metadata": {},
   "outputs": [
    {
     "name": "stdout",
     "output_type": "stream",
     "text": [
      "Training Precision:  0.9400839244220239\n",
      "Testing Precision:  0.6420928096648822\n",
      "\n",
      "\n",
      "\n",
      "Training Recall:  0.8983780469568533\n",
      "Testing Recall:  0.6312087033294892\n"
     ]
    }
   ],
   "source": [
    "t_predict= dt_model_pipe.predict(X_train)\n",
    "t_test_predict = dt_model_pipe.predict(X_test)\n",
    "\n",
    "print('Training Precision: ', precision_score(y_train, t_predict, average='macro'))\n",
    "print('Testing Precision: ', precision_score(y_test, t_test_predict, average='macro'))\n",
    "print('\\n\\n')\n",
    "\n",
    "print('Training Recall: ', recall_score(y_train, t_predict, average='macro'))\n",
    "print('Testing Recall: ', recall_score(y_test, t_test_predict, average='macro'))"
   ]
  },
  {
   "cell_type": "code",
   "execution_count": 24,
   "id": "2ff183f6",
   "metadata": {},
   "outputs": [
    {
     "data": {
      "image/png": "[encoded data removed]",
      "text/plain": [
       "<Figure size 576x576 with 2 Axes>"
      ]
     },
     "metadata": {
      "needs_background": "light"
     },
     "output_type": "display_data"
    }
   ],
   "source": [
    "fig, ax = plt.subplots(figsize=(8, 8))\n",
    "plot_confusion_matrix(dt_model_pipe, X_test, y_test, cmap=plt.cm.Reds, ax=ax);"
   ]
  },
  {
   "cell_type": "code",
   "execution_count": 43,
   "id": "18cd4299",
   "metadata": {},
   "outputs": [],
   "source": [
    "def model_evaluation(model, X_train, y_train, X_test, y_test):\n",
    "    print(f\"\"\"\n",
    "    Training Accuracy Score: {round(accuracy_score(y_train, model.predict(X_train)),2)} \n",
    "    Testing Accuracy Score: {round(accuracy_score(y_test, model.predict(X_test)),2)}\n",
    "    \n",
    "    Training Precision Score: {round(precision_score(y_train, model.predict(X_train), average= 'macro'),2)}\n",
    "    Testing Precision Score: {round(precision_score(y_test, model.predict(X_test), average= 'macro'),2)} \n",
    "    \n",
    "    Training Recall Score: {round(recall_score(y_train, model.predict(X_train), average= 'macro'),2)}\n",
    "    Testing Recall Score: {round(recall_score(y_test, model.predict(X_test), average= 'macro'),2)} \n",
    "    \n",
    "    Training F1 Score: {round(f1_score(y_train, model.predict(X_train), average= 'macro'),2)}\n",
    "    Testing F1 Score: {round(f1_score(y_test, model.predict(X_test), average= 'macro'),2)} \n",
    "    \n",
    "    Confusion Matrix:\"\"\")     \n",
    "    fig, ax = plt.subplots(figsize=(8, 8))\n",
    "    plot_confusion_matrix(model, X_test, y_test, normalize = 'true', display_labels = ['Functional', 'Functional Needs Repair', 'Nonfunctional'],ax=ax)                        \n",
    "                                 \n",
    "                                 "
   ]
  },
  {
   "cell_type": "code",
   "execution_count": 44,
   "id": "ec338fc0",
   "metadata": {},
   "outputs": [
    {
     "name": "stdout",
     "output_type": "stream",
     "text": [
      "\n",
      "    Training Accuracy Score: 0.95 \n",
      "    Testing Accuracy Score: 0.75\n",
      "    \n",
      "    Training Precision Score: 0.94\n",
      "    Testing Precision Score: 0.64 \n",
      "    \n",
      "    Training Recall Score: 0.9\n",
      "    Testing Recall Score: 0.63 \n",
      "    \n",
      "    Training F1 Score: 0.92\n",
      "    Testing F1 Score: 0.64 \n",
      "    \n",
      "    Confusion Matrix:\n"
     ]
    },
    {
     "data": {
      "image/png": "[encoded data removed]",
      "text/plain": [
       "<Figure size 576x576 with 2 Axes>"
      ]
     },
     "metadata": {
      "needs_background": "light"
     },
     "output_type": "display_data"
    }
   ],
   "source": [
    "model_evaluation(dt_model_pipe, X_train, y_train, X_test, y_test)"
   ]
  },
  {
   "cell_type": "code",
   "execution_count": null,
   "id": "e54ffffc",
   "metadata": {},
   "outputs": [],
   "source": [
    "Training ROC_AUC: {round(roc_auc_score(y_train, model.predict(X_train), average= 'macro'),2)}\n",
    "Testing ROC_AUC:  {round(roc_auc_score(y_test, model.predict(X_test), average= 'macro'),2)} \\"
   ]
  }
 ],
 "metadata": {
  "kernelspec": {
   "display_name": "Python (learn-env)",
   "language": "python",
   "name": "learn-env"
  },
  "language_info": {
   "codemirror_mode": {
    "name": "ipython",
    "version": 3
   },
   "file_extension": ".py",
   "mimetype": "text/x-python",
   "name": "python",
   "nbconvert_exporter": "python",
   "pygments_lexer": "ipython3",
   "version": "3.8.5"
  }
 },
 "nbformat": 4,
 "nbformat_minor": 5
}
