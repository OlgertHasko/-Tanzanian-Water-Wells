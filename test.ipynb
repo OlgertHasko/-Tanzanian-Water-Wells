{
 "cells": [
  {
   "cell_type": "code",
   "execution_count": 1,
   "metadata": {},
   "outputs": [],
   "source": [
    "import pandas as pd\n",
    "import matplotlib.pyplot as plt\n",
    "from sklearn.preprocessing import StandardScaler\n",
    "from sklearn.linear_model import LogisticRegression\n",
    "from sklearn.neighbors import KNeighborsClassifier\n",
    "from sklearn.tree import DecisionTreeClassifier\n",
    "from sklearn.impute import SimpleImputer\n",
    "from sklearn.pipeline import Pipeline\n",
    "from sklearn.compose import ColumnTransformer\n",
    "from sklearn.preprocessing import OneHotEncoder , FunctionTransformer\n",
    "from sklearn.dummy import DummyRegressor\n",
    "from sklearn.ensemble import RandomForestClassifier, GradientBoostingClassifier\n",
    "from sklearn.compose import ColumnTransformer\n",
    "from sklearn.model_selection import train_test_split\n",
    "from sklearn.metrics import plot_confusion_matrix, recall_score,\\\n",
    "    accuracy_score, precision_score, f1_score"
   ]
  },
  {
   "cell_type": "code",
   "execution_count": 135,
   "metadata": {},
   "outputs": [],
   "source": [
    "df_desc = pd.read_csv(\"data/key.csv\", index_col = 0)\n",
    "df = pd.read_csv(\"data/data_clean.csv\")\n",
    "df = df.drop(\"Unnamed: 0\",axis=1)"
   ]
  },
  {
   "cell_type": "code",
   "execution_count": 136,
   "metadata": {},
   "outputs": [
    {
     "data": {
      "text/plain": [
       "funder                   object\n",
       "gps_height                int64\n",
       "installer                object\n",
       "wpt_name                 object\n",
       "basin                    object\n",
       "region_code               int64\n",
       "district_code             int64\n",
       "population                int64\n",
       "public_meeting           object\n",
       "permit                   object\n",
       "construction_year         int64\n",
       "extraction_type_class    object\n",
       "management               object\n",
       "payment_type             object\n",
       "quality_group            object\n",
       "quantity                 object\n",
       "source                   object\n",
       "source_class             object\n",
       "waterpoint_type          object\n",
       "status_group             object\n",
       "dtype: object"
      ]
     },
     "execution_count": 136,
     "metadata": {},
     "output_type": "execute_result"
    }
   ],
   "source": [
    "df.dtypes"
   ]
  },
  {
   "cell_type": "code",
   "execution_count": 137,
   "metadata": {},
   "outputs": [],
   "source": [
    "def int_to_object(df):\n",
    "    df[\"region_code\"] = df[\"region_code\"].astype(object)\n",
    "    df[\"district_code\"] = df[\"district_code\"].astype(object)\n",
    "    return df.dtypes"
   ]
  },
  {
   "cell_type": "code",
   "execution_count": 138,
   "metadata": {},
   "outputs": [
    {
     "data": {
      "text/plain": [
       "funder                   object\n",
       "gps_height                int64\n",
       "installer                object\n",
       "wpt_name                 object\n",
       "basin                    object\n",
       "region_code              object\n",
       "district_code            object\n",
       "population                int64\n",
       "public_meeting           object\n",
       "permit                   object\n",
       "construction_year         int64\n",
       "extraction_type_class    object\n",
       "management               object\n",
       "payment_type             object\n",
       "quality_group            object\n",
       "quantity                 object\n",
       "source                   object\n",
       "source_class             object\n",
       "waterpoint_type          object\n",
       "status_group             object\n",
       "dtype: object"
      ]
     },
     "execution_count": 138,
     "metadata": {},
     "output_type": "execute_result"
    }
   ],
   "source": [
    "int_to_object(df)"
   ]
  },
  {
   "cell_type": "code",
   "execution_count": 139,
   "metadata": {},
   "outputs": [],
   "source": [
    "X = df.drop([\"status_group\"], axis=1)\n",
    "y = df['status_group']"
   ]
  },
  {
   "cell_type": "code",
   "execution_count": 140,
   "metadata": {},
   "outputs": [],
   "source": [
    "X_train, X_test, y_train, y_test = train_test_split(X, y, random_state=465615615)"
   ]
  },
  {
   "cell_type": "code",
   "execution_count": 141,
   "metadata": {},
   "outputs": [
    {
     "data": {
      "text/plain": [
       "funder                   object\n",
       "gps_height                int64\n",
       "installer                object\n",
       "wpt_name                 object\n",
       "basin                    object\n",
       "region_code              object\n",
       "district_code            object\n",
       "population                int64\n",
       "public_meeting           object\n",
       "permit                   object\n",
       "construction_year         int64\n",
       "extraction_type_class    object\n",
       "management               object\n",
       "payment_type             object\n",
       "quality_group            object\n",
       "quantity                 object\n",
       "source                   object\n",
       "source_class             object\n",
       "waterpoint_type          object\n",
       "dtype: object"
      ]
     },
     "execution_count": 141,
     "metadata": {},
     "output_type": "execute_result"
    }
   ],
   "source": [
    "X_train.dtypes"
   ]
  },
  {
   "cell_type": "code",
   "execution_count": 142,
   "metadata": {},
   "outputs": [],
   "source": [
    "def grab_numeric(df):\n",
    "    return df.select_dtypes(include=['int64'])"
   ]
  },
  {
   "cell_type": "code",
   "execution_count": 143,
   "metadata": {},
   "outputs": [],
   "source": [
    "GrabNumeric = FunctionTransformer(grab_numeric)"
   ]
  },
  {
   "cell_type": "code",
   "execution_count": 144,
   "metadata": {},
   "outputs": [
    {
     "data": {
      "text/plain": [
       "FunctionTransformer(func=<function grab_numeric at 0x0000023513793940>)"
      ]
     },
     "execution_count": 144,
     "metadata": {},
     "output_type": "execute_result"
    }
   ],
   "source": [
    "GrabNumeric"
   ]
  },
  {
   "cell_type": "code",
   "execution_count": 145,
   "metadata": {},
   "outputs": [],
   "source": [
    "pipe= Pipeline(steps=[(\"num\", GrabNumeric),\n",
    "                      ( \"ss\", StandardScaler())])"
   ]
  },
  {
   "cell_type": "code",
   "execution_count": 146,
   "metadata": {},
   "outputs": [
    {
     "data": {
      "text/plain": [
       "Pipeline(steps=[('num',\n",
       "                 FunctionTransformer(func=<function grab_numeric at 0x0000023513793940>)),\n",
       "                ('ss', StandardScaler())])"
      ]
     },
     "execution_count": 146,
     "metadata": {},
     "output_type": "execute_result"
    }
   ],
   "source": [
    "pipe.fit(X_train)\n"
   ]
  },
  {
   "cell_type": "code",
   "execution_count": 147,
   "metadata": {},
   "outputs": [
    {
     "data": {
      "text/plain": [
       "array([[-0.84040878,  0.25062257,  0.73816517],\n",
       "       [-0.96708423, -0.38007373, -1.36866403],\n",
       "       [ 0.55590018,  0.29266899,  0.72765205],\n",
       "       ...,\n",
       "       [-0.96708423, -0.38007373, -1.36866403],\n",
       "       [ 0.77614273, -0.37797141,  0.74657567],\n",
       "       [-0.96708423, -0.38007373, -1.36866403]])"
      ]
     },
     "execution_count": 147,
     "metadata": {},
     "output_type": "execute_result"
    }
   ],
   "source": [
    "pipe.transform(X_train)"
   ]
  },
  {
   "cell_type": "code",
   "execution_count": 148,
   "metadata": {},
   "outputs": [
    {
     "data": {
      "text/html": [
       "<div>\n",
       "<style scoped>\n",
       "    .dataframe tbody tr th:only-of-type {\n",
       "        vertical-align: middle;\n",
       "    }\n",
       "\n",
       "    .dataframe tbody tr th {\n",
       "        vertical-align: top;\n",
       "    }\n",
       "\n",
       "    .dataframe thead th {\n",
       "        text-align: right;\n",
       "    }\n",
       "</style>\n",
       "<table border=\"1\" class=\"dataframe\">\n",
       "  <thead>\n",
       "    <tr style=\"text-align: right;\">\n",
       "      <th></th>\n",
       "      <th>funder</th>\n",
       "      <th>gps_height</th>\n",
       "      <th>installer</th>\n",
       "      <th>wpt_name</th>\n",
       "      <th>basin</th>\n",
       "      <th>region_code</th>\n",
       "      <th>district_code</th>\n",
       "      <th>population</th>\n",
       "      <th>public_meeting</th>\n",
       "      <th>permit</th>\n",
       "      <th>construction_year</th>\n",
       "      <th>extraction_type_class</th>\n",
       "      <th>management</th>\n",
       "      <th>payment_type</th>\n",
       "      <th>quality_group</th>\n",
       "      <th>quantity</th>\n",
       "      <th>source</th>\n",
       "      <th>source_class</th>\n",
       "      <th>waterpoint_type</th>\n",
       "    </tr>\n",
       "  </thead>\n",
       "  <tbody>\n",
       "    <tr>\n",
       "      <th>58168</th>\n",
       "      <td>Plan Int</td>\n",
       "      <td>88</td>\n",
       "      <td>DDCA</td>\n",
       "      <td>Magengeni</td>\n",
       "      <td>Wami / Ruvu</td>\n",
       "      <td>6</td>\n",
       "      <td>3</td>\n",
       "      <td>300</td>\n",
       "      <td>True</td>\n",
       "      <td>False</td>\n",
       "      <td>2004</td>\n",
       "      <td>handpump</td>\n",
       "      <td>vwc</td>\n",
       "      <td>per bucket</td>\n",
       "      <td>good</td>\n",
       "      <td>enough</td>\n",
       "      <td>machine dbh</td>\n",
       "      <td>groundwater</td>\n",
       "      <td>hand pump</td>\n",
       "    </tr>\n",
       "    <tr>\n",
       "      <th>11994</th>\n",
       "      <td>NaN</td>\n",
       "      <td>0</td>\n",
       "      <td>NaN</td>\n",
       "      <td>Ifunda</td>\n",
       "      <td>Lake Nyasa</td>\n",
       "      <td>12</td>\n",
       "      <td>4</td>\n",
       "      <td>0</td>\n",
       "      <td>True</td>\n",
       "      <td>NaN</td>\n",
       "      <td>0</td>\n",
       "      <td>gravity</td>\n",
       "      <td>vwc</td>\n",
       "      <td>unknown</td>\n",
       "      <td>good</td>\n",
       "      <td>enough</td>\n",
       "      <td>spring</td>\n",
       "      <td>groundwater</td>\n",
       "      <td>communal standpipe</td>\n",
       "    </tr>\n",
       "    <tr>\n",
       "      <th>43128</th>\n",
       "      <td>Danida</td>\n",
       "      <td>1058</td>\n",
       "      <td>DWE</td>\n",
       "      <td>Kwa Alphonce</td>\n",
       "      <td>Lake Nyasa</td>\n",
       "      <td>10</td>\n",
       "      <td>2</td>\n",
       "      <td>320</td>\n",
       "      <td>True</td>\n",
       "      <td>True</td>\n",
       "      <td>1994</td>\n",
       "      <td>handpump</td>\n",
       "      <td>vwc</td>\n",
       "      <td>monthly</td>\n",
       "      <td>good</td>\n",
       "      <td>dry</td>\n",
       "      <td>shallow well</td>\n",
       "      <td>groundwater</td>\n",
       "      <td>hand pump</td>\n",
       "    </tr>\n",
       "    <tr>\n",
       "      <th>37495</th>\n",
       "      <td>Danida</td>\n",
       "      <td>1031</td>\n",
       "      <td>DANID</td>\n",
       "      <td>none</td>\n",
       "      <td>Rufiji</td>\n",
       "      <td>11</td>\n",
       "      <td>1</td>\n",
       "      <td>1</td>\n",
       "      <td>True</td>\n",
       "      <td>True</td>\n",
       "      <td>1989</td>\n",
       "      <td>gravity</td>\n",
       "      <td>vwc</td>\n",
       "      <td>annually</td>\n",
       "      <td>good</td>\n",
       "      <td>enough</td>\n",
       "      <td>spring</td>\n",
       "      <td>groundwater</td>\n",
       "      <td>communal standpipe</td>\n",
       "    </tr>\n",
       "    <tr>\n",
       "      <th>58943</th>\n",
       "      <td>District Council</td>\n",
       "      <td>654</td>\n",
       "      <td>Handeni Trunk Main(</td>\n",
       "      <td>Kwedibilika</td>\n",
       "      <td>Pangani</td>\n",
       "      <td>4</td>\n",
       "      <td>6</td>\n",
       "      <td>800</td>\n",
       "      <td>True</td>\n",
       "      <td>True</td>\n",
       "      <td>2007</td>\n",
       "      <td>submersible</td>\n",
       "      <td>vwc</td>\n",
       "      <td>per bucket</td>\n",
       "      <td>good</td>\n",
       "      <td>enough</td>\n",
       "      <td>river</td>\n",
       "      <td>surface</td>\n",
       "      <td>communal standpipe</td>\n",
       "    </tr>\n",
       "    <tr>\n",
       "      <th>...</th>\n",
       "      <td>...</td>\n",
       "      <td>...</td>\n",
       "      <td>...</td>\n",
       "      <td>...</td>\n",
       "      <td>...</td>\n",
       "      <td>...</td>\n",
       "      <td>...</td>\n",
       "      <td>...</td>\n",
       "      <td>...</td>\n",
       "      <td>...</td>\n",
       "      <td>...</td>\n",
       "      <td>...</td>\n",
       "      <td>...</td>\n",
       "      <td>...</td>\n",
       "      <td>...</td>\n",
       "      <td>...</td>\n",
       "      <td>...</td>\n",
       "      <td>...</td>\n",
       "      <td>...</td>\n",
       "    </tr>\n",
       "    <tr>\n",
       "      <th>28930</th>\n",
       "      <td>Kkkt</td>\n",
       "      <td>0</td>\n",
       "      <td>KKKT</td>\n",
       "      <td>Mwiyulege</td>\n",
       "      <td>Lake Rukwa</td>\n",
       "      <td>12</td>\n",
       "      <td>6</td>\n",
       "      <td>0</td>\n",
       "      <td>True</td>\n",
       "      <td>False</td>\n",
       "      <td>0</td>\n",
       "      <td>other</td>\n",
       "      <td>vwc</td>\n",
       "      <td>on failure</td>\n",
       "      <td>good</td>\n",
       "      <td>enough</td>\n",
       "      <td>shallow well</td>\n",
       "      <td>groundwater</td>\n",
       "      <td>other</td>\n",
       "    </tr>\n",
       "    <tr>\n",
       "      <th>18722</th>\n",
       "      <td>Fini Water</td>\n",
       "      <td>-23</td>\n",
       "      <td>Fini water</td>\n",
       "      <td>Lunyu</td>\n",
       "      <td>Ruvuma / Southern Coast</td>\n",
       "      <td>99</td>\n",
       "      <td>1</td>\n",
       "      <td>400</td>\n",
       "      <td>True</td>\n",
       "      <td>False</td>\n",
       "      <td>1985</td>\n",
       "      <td>other</td>\n",
       "      <td>vwc</td>\n",
       "      <td>unknown</td>\n",
       "      <td>good</td>\n",
       "      <td>enough</td>\n",
       "      <td>machine dbh</td>\n",
       "      <td>groundwater</td>\n",
       "      <td>other</td>\n",
       "    </tr>\n",
       "    <tr>\n",
       "      <th>35280</th>\n",
       "      <td>Government Of Tanzania</td>\n",
       "      <td>0</td>\n",
       "      <td>Government</td>\n",
       "      <td>John Zakayo</td>\n",
       "      <td>Lake Rukwa</td>\n",
       "      <td>12</td>\n",
       "      <td>1</td>\n",
       "      <td>0</td>\n",
       "      <td>True</td>\n",
       "      <td>True</td>\n",
       "      <td>0</td>\n",
       "      <td>handpump</td>\n",
       "      <td>vwc</td>\n",
       "      <td>per bucket</td>\n",
       "      <td>good</td>\n",
       "      <td>enough</td>\n",
       "      <td>shallow well</td>\n",
       "      <td>groundwater</td>\n",
       "      <td>hand pump</td>\n",
       "    </tr>\n",
       "    <tr>\n",
       "      <th>31507</th>\n",
       "      <td>Bingo Foundation Germany</td>\n",
       "      <td>1211</td>\n",
       "      <td>Rombo Dalta</td>\n",
       "      <td>Shuleni</td>\n",
       "      <td>Pangani</td>\n",
       "      <td>3</td>\n",
       "      <td>1</td>\n",
       "      <td>1</td>\n",
       "      <td>True</td>\n",
       "      <td>True</td>\n",
       "      <td>2012</td>\n",
       "      <td>gravity</td>\n",
       "      <td>parastatal</td>\n",
       "      <td>never pay</td>\n",
       "      <td>good</td>\n",
       "      <td>seasonal</td>\n",
       "      <td>rainwater harvesting</td>\n",
       "      <td>surface</td>\n",
       "      <td>communal standpipe</td>\n",
       "    </tr>\n",
       "    <tr>\n",
       "      <th>3875</th>\n",
       "      <td>Oxfam</td>\n",
       "      <td>0</td>\n",
       "      <td>OXFAM</td>\n",
       "      <td>Lukonja</td>\n",
       "      <td>Lake Victoria</td>\n",
       "      <td>18</td>\n",
       "      <td>30</td>\n",
       "      <td>0</td>\n",
       "      <td>True</td>\n",
       "      <td>False</td>\n",
       "      <td>0</td>\n",
       "      <td>handpump</td>\n",
       "      <td>vwc</td>\n",
       "      <td>never pay</td>\n",
       "      <td>good</td>\n",
       "      <td>enough</td>\n",
       "      <td>shallow well</td>\n",
       "      <td>groundwater</td>\n",
       "      <td>hand pump</td>\n",
       "    </tr>\n",
       "  </tbody>\n",
       "</table>\n",
       "<p>44550 rows × 19 columns</p>\n",
       "</div>"
      ],
      "text/plain": [
       "                         funder  gps_height            installer  \\\n",
       "58168                  Plan Int          88                 DDCA   \n",
       "11994                       NaN           0                  NaN   \n",
       "43128                    Danida        1058                  DWE   \n",
       "37495                    Danida        1031                DANID   \n",
       "58943          District Council         654  Handeni Trunk Main(   \n",
       "...                         ...         ...                  ...   \n",
       "28930                      Kkkt           0                 KKKT   \n",
       "18722                Fini Water         -23           Fini water   \n",
       "35280    Government Of Tanzania           0           Government   \n",
       "31507  Bingo Foundation Germany        1211          Rombo Dalta   \n",
       "3875                      Oxfam           0                OXFAM   \n",
       "\n",
       "           wpt_name                    basin region_code district_code  \\\n",
       "58168     Magengeni              Wami / Ruvu           6             3   \n",
       "11994        Ifunda               Lake Nyasa          12             4   \n",
       "43128  Kwa Alphonce               Lake Nyasa          10             2   \n",
       "37495          none                   Rufiji          11             1   \n",
       "58943   Kwedibilika                  Pangani           4             6   \n",
       "...             ...                      ...         ...           ...   \n",
       "28930     Mwiyulege               Lake Rukwa          12             6   \n",
       "18722         Lunyu  Ruvuma / Southern Coast          99             1   \n",
       "35280   John Zakayo               Lake Rukwa          12             1   \n",
       "31507       Shuleni                  Pangani           3             1   \n",
       "3875        Lukonja            Lake Victoria          18            30   \n",
       "\n",
       "       population public_meeting permit  construction_year  \\\n",
       "58168         300           True  False               2004   \n",
       "11994           0           True    NaN                  0   \n",
       "43128         320           True   True               1994   \n",
       "37495           1           True   True               1989   \n",
       "58943         800           True   True               2007   \n",
       "...           ...            ...    ...                ...   \n",
       "28930           0           True  False                  0   \n",
       "18722         400           True  False               1985   \n",
       "35280           0           True   True                  0   \n",
       "31507           1           True   True               2012   \n",
       "3875            0           True  False                  0   \n",
       "\n",
       "      extraction_type_class  management payment_type quality_group  quantity  \\\n",
       "58168              handpump         vwc   per bucket          good    enough   \n",
       "11994               gravity         vwc      unknown          good    enough   \n",
       "43128              handpump         vwc      monthly          good       dry   \n",
       "37495               gravity         vwc     annually          good    enough   \n",
       "58943           submersible         vwc   per bucket          good    enough   \n",
       "...                     ...         ...          ...           ...       ...   \n",
       "28930                 other         vwc   on failure          good    enough   \n",
       "18722                 other         vwc      unknown          good    enough   \n",
       "35280              handpump         vwc   per bucket          good    enough   \n",
       "31507               gravity  parastatal    never pay          good  seasonal   \n",
       "3875               handpump         vwc    never pay          good    enough   \n",
       "\n",
       "                     source source_class     waterpoint_type  \n",
       "58168           machine dbh  groundwater           hand pump  \n",
       "11994                spring  groundwater  communal standpipe  \n",
       "43128          shallow well  groundwater           hand pump  \n",
       "37495                spring  groundwater  communal standpipe  \n",
       "58943                 river      surface  communal standpipe  \n",
       "...                     ...          ...                 ...  \n",
       "28930          shallow well  groundwater               other  \n",
       "18722           machine dbh  groundwater               other  \n",
       "35280          shallow well  groundwater           hand pump  \n",
       "31507  rainwater harvesting      surface  communal standpipe  \n",
       "3875           shallow well  groundwater           hand pump  \n",
       "\n",
       "[44550 rows x 19 columns]"
      ]
     },
     "execution_count": 148,
     "metadata": {},
     "output_type": "execute_result"
    }
   ],
   "source": [
    "X_train"
   ]
  },
  {
   "cell_type": "code",
   "execution_count": 161,
   "metadata": {},
   "outputs": [
    {
     "name": "stdout",
     "output_type": "stream",
     "text": [
      "Index Number 0 funder\n",
      "Index Number 1 gps_height\n",
      "Index Number 2 installer\n",
      "Index Number 3 wpt_name\n",
      "Index Number 4 basin\n",
      "Index Number 5 region_code\n",
      "Index Number 6 district_code\n",
      "Index Number 7 population\n",
      "Index Number 8 public_meeting\n",
      "Index Number 9 permit\n",
      "Index Number 10 construction_year\n",
      "Index Number 11 extraction_type_class\n",
      "Index Number 12 management\n",
      "Index Number 13 payment_type\n",
      "Index Number 14 quality_group\n",
      "Index Number 15 quantity\n",
      "Index Number 16 source\n",
      "Index Number 17 source_class\n",
      "Index Number 18 waterpoint_type\n"
     ]
    }
   ],
   "source": [
    "j = -1\n",
    "for i in X_train.columns:\n",
    "    j+=1\n",
    "    print(\"Index Number\", j,i)"
   ]
  },
  {
   "cell_type": "code",
   "execution_count": 162,
   "metadata": {},
   "outputs": [],
   "source": [
    "# We'll throw these mini-pipelines into our ColumnTransformer.\n",
    "\n",
    "subpipe_num = Pipeline(steps=[('num_impute', SimpleImputer(strategy=\"median\")),\n",
    "                           ('ss', StandardScaler())])\n",
    "subpipe_cat = Pipeline(steps=[('cat_impute', SimpleImputer(strategy='most_frequent')),\n",
    "                             ('ohe', OneHotEncoder(sparse=False, handle_unknown='ignore'))])"
   ]
  },
  {
   "cell_type": "code",
   "execution_count": 163,
   "metadata": {},
   "outputs": [],
   "source": [
    "CT = ColumnTransformer(transformers=[('subpipe_num', subpipe_num, [1,7,10,]),\n",
    "                                         ('subpipe_cat', subpipe_cat, [0,2,3,4,5,6,8,9,11,12,13,14,15,16,17,18])],\n",
    "                           remainder='passthrough')"
   ]
  },
  {
   "cell_type": "code",
   "execution_count": 164,
   "metadata": {},
   "outputs": [],
   "source": [
    "logreg_model_pipe = Pipeline(steps=([(\"ct\", CT), \n",
    "                                    (\"logreg\", LogisticRegression(random_state=465654))]))"
   ]
  },
  {
   "cell_type": "code",
   "execution_count": 165,
   "metadata": {},
   "outputs": [
    {
     "name": "stderr",
     "output_type": "stream",
     "text": [
      "C:\\Users\\Owner\\anaconda3\\envs\\learn-env\\lib\\site-packages\\sklearn\\linear_model\\_logistic.py:762: ConvergenceWarning: lbfgs failed to converge (status=1):\n",
      "STOP: TOTAL NO. of ITERATIONS REACHED LIMIT.\n",
      "\n",
      "Increase the number of iterations (max_iter) or scale the data as shown in:\n",
      "    https://scikit-learn.org/stable/modules/preprocessing.html\n",
      "Please also refer to the documentation for alternative solver options:\n",
      "    https://scikit-learn.org/stable/modules/linear_model.html#logistic-regression\n",
      "  n_iter_i = _check_optimize_result(\n"
     ]
    },
    {
     "data": {
      "text/plain": [
       "Pipeline(steps=[('ct',\n",
       "                 ColumnTransformer(remainder='passthrough',\n",
       "                                   transformers=[('subpipe_num',\n",
       "                                                  Pipeline(steps=[('num_impute',\n",
       "                                                                   SimpleImputer(strategy='median')),\n",
       "                                                                  ('ss',\n",
       "                                                                   StandardScaler())]),\n",
       "                                                  [1, 7, 10]),\n",
       "                                                 ('subpipe_cat',\n",
       "                                                  Pipeline(steps=[('cat_impute',\n",
       "                                                                   SimpleImputer(strategy='most_frequent')),\n",
       "                                                                  ('ohe',\n",
       "                                                                   OneHotEncoder(handle_unknown='ignore',\n",
       "                                                                                 sparse=False))]),\n",
       "                                                  [0, 2, 3, 4, 5, 6, 8, 9, 11,\n",
       "                                                   12, 13, 14, 15, 16, 17,\n",
       "                                                   18])])),\n",
       "                ('logreg', LogisticRegression(random_state=465654))])"
      ]
     },
     "execution_count": 165,
     "metadata": {},
     "output_type": "execute_result"
    }
   ],
   "source": [
    "logreg_model_pipe.fit(X_train, y_train)"
   ]
  },
  {
   "cell_type": "code",
   "execution_count": 166,
   "metadata": {},
   "outputs": [
    {
     "data": {
      "text/plain": [
       "0.8096969696969697"
      ]
     },
     "execution_count": 166,
     "metadata": {},
     "output_type": "execute_result"
    }
   ],
   "source": [
    "logreg_model_pipe.score(X_train, y_train)"
   ]
  },
  {
   "cell_type": "code",
   "execution_count": 170,
   "metadata": {},
   "outputs": [],
   "source": [
    "rfc = RandomForestClassifier(random_state=165156156, n_jobs=-1)\n",
    "rfc_model_pipe = Pipeline([(\"ct\", CT), (\"rfc\", rfc)])"
   ]
  },
  {
   "cell_type": "code",
   "execution_count": 171,
   "metadata": {},
   "outputs": [
    {
     "data": {
      "text/plain": [
       "Pipeline(steps=[('ct',\n",
       "                 ColumnTransformer(remainder='passthrough',\n",
       "                                   transformers=[('subpipe_num',\n",
       "                                                  Pipeline(steps=[('num_impute',\n",
       "                                                                   SimpleImputer(strategy='median')),\n",
       "                                                                  ('ss',\n",
       "                                                                   StandardScaler())]),\n",
       "                                                  [1, 7, 10]),\n",
       "                                                 ('subpipe_cat',\n",
       "                                                  Pipeline(steps=[('cat_impute',\n",
       "                                                                   SimpleImputer(strategy='most_frequent')),\n",
       "                                                                  ('ohe',\n",
       "                                                                   OneHotEncoder(handle_unknown='ignore',\n",
       "                                                                                 sparse=False))]),\n",
       "                                                  [0, 2, 3, 4, 5, 6, 8, 9, 11,\n",
       "                                                   12, 13, 14, 15, 16, 17,\n",
       "                                                   18])])),\n",
       "                ('rfc',\n",
       "                 RandomForestClassifier(n_jobs=-1, random_state=165156156))])"
      ]
     },
     "execution_count": 171,
     "metadata": {},
     "output_type": "execute_result"
    }
   ],
   "source": [
    "rfc_model_pipe.fit(X_train, y_train)"
   ]
  },
  {
   "cell_type": "code",
   "execution_count": 172,
   "metadata": {},
   "outputs": [
    {
     "data": {
      "text/plain": [
       "0.9962514029180696"
      ]
     },
     "execution_count": 172,
     "metadata": {},
     "output_type": "execute_result"
    }
   ],
   "source": [
    "rfc_model_pipe.score(X_train, y_train)"
   ]
  },
  {
   "cell_type": "code",
   "execution_count": 173,
   "metadata": {},
   "outputs": [],
   "source": [
    "gbc_model_pipe = Pipeline([('ct', CT), ('gbc', GradientBoostingClassifier(random_state=42))])"
   ]
  },
  {
   "cell_type": "code",
   "execution_count": 174,
   "metadata": {},
   "outputs": [
    {
     "data": {
      "text/plain": [
       "Pipeline(steps=[('ct',\n",
       "                 ColumnTransformer(remainder='passthrough',\n",
       "                                   transformers=[('subpipe_num',\n",
       "                                                  Pipeline(steps=[('num_impute',\n",
       "                                                                   SimpleImputer(strategy='median')),\n",
       "                                                                  ('ss',\n",
       "                                                                   StandardScaler())]),\n",
       "                                                  [1, 7, 10]),\n",
       "                                                 ('subpipe_cat',\n",
       "                                                  Pipeline(steps=[('cat_impute',\n",
       "                                                                   SimpleImputer(strategy='most_frequent')),\n",
       "                                                                  ('ohe',\n",
       "                                                                   OneHotEncoder(handle_unknown='ignore',\n",
       "                                                                                 sparse=False))]),\n",
       "                                                  [0, 2, 3, 4, 5, 6, 8, 9, 11,\n",
       "                                                   12, 13, 14, 15, 16, 17,\n",
       "                                                   18])])),\n",
       "                ('gbc', GradientBoostingClassifier(random_state=42))])"
      ]
     },
     "execution_count": 174,
     "metadata": {},
     "output_type": "execute_result"
    }
   ],
   "source": [
    "gbc_model_pipe.fit(X_train, y_train)"
   ]
  },
  {
   "cell_type": "code",
   "execution_count": 175,
   "metadata": {},
   "outputs": [
    {
     "data": {
      "text/plain": [
       "0.7593939393939394"
      ]
     },
     "execution_count": 175,
     "metadata": {},
     "output_type": "execute_result"
    }
   ],
   "source": [
    "gbc_model_pipe.score(X_train, y_train)"
   ]
  },
  {
   "cell_type": "code",
   "execution_count": 178,
   "metadata": {},
   "outputs": [],
   "source": [
    "y_hat = gbc_model_pipe.predict(X_test)"
   ]
  },
  {
   "cell_type": "code",
   "execution_count": null,
   "metadata": {},
   "outputs": [],
   "source": []
  }
 ],
 "metadata": {
  "interpreter": {
   "hash": "4ad65dd45c2d07e74b12869848a281d31b75ca788164d45805ca064cbe1f6cb6"
  },
  "kernelspec": {
   "display_name": "Python 3 (ipykernel)",
   "language": "python",
   "name": "python3"
  },
  "language_info": {
   "codemirror_mode": {
    "name": "ipython",
    "version": 3
   },
   "file_extension": ".py",
   "mimetype": "text/x-python",
   "name": "python",
   "nbconvert_exporter": "python",
   "pygments_lexer": "ipython3",
   "version": "3.9.7"
  }
 },
 "nbformat": 4,
 "nbformat_minor": 2
}
